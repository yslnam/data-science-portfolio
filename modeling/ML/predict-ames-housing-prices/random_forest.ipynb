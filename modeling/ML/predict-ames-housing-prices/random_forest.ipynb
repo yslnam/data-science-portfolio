{
 "cells": [
  {
   "cell_type": "markdown",
   "metadata": {},
   "source": [
    "# Random Forest"
   ]
  },
  {
   "cell_type": "markdown",
   "metadata": {},
   "source": [
    "## Import and load data"
   ]
  },
  {
   "cell_type": "code",
   "execution_count": 6,
   "metadata": {},
   "outputs": [],
   "source": [
    "import pandas as pd\n",
    "import numpy as np\n",
    "import matplotlib.pyplot as plt\n",
    "import seaborn as sns\n",
    "%matplotlib inline"
   ]
  },
  {
   "cell_type": "code",
   "execution_count": 7,
   "metadata": {},
   "outputs": [],
   "source": [
    "X_train = pd.read_csv('../data/processed/X_train_rf.csv')\n",
    "y_train = pd.read_csv('../data/processed/y_train_rf.csv')\n",
    "X_test = pd.read_csv('../data/processed/X_test_rf.csv')\n",
    "y_train = y_train['SalePrice']"
   ]
  },
  {
   "cell_type": "code",
   "execution_count": 3,
   "metadata": {},
   "outputs": [
    {
     "name": "stdout",
     "output_type": "stream",
     "text": [
      "Training Features Shape: (1460, 66)\n",
      "Training Target Shape: (1460,)\n",
      "Testing Features Shape: (1459, 67)\n"
     ]
    }
   ],
   "source": [
    "print('Training Features Shape:', X_train.shape)\n",
    "print('Training Target Shape:', y_train.shape)\n",
    "print('Testing Features Shape:', X_test.shape)"
   ]
  },
  {
   "cell_type": "markdown",
   "metadata": {},
   "source": [
    "### Helper functions"
   ]
  },
  {
   "cell_type": "code",
   "execution_count": 17,
   "metadata": {},
   "outputs": [],
   "source": [
    "# Show all rows and columns of data frame\n",
    "def print_all(x):\n",
    "    pd.set_option('display.max_columns', None)\n",
    "    pd.set_option('display.max_rows', len(x))\n",
    "    print(x)\n",
    "    pd.reset_option('display.max_columns')\n",
    "    pd.reset_option('display.max_rows')\n",
    "\n",
    "# Feature importance plots\n",
    "def feat_df(feature_names, importances):\n",
    "    df=pd.DataFrame({'feature': feature_names,\n",
    "                     'importance': importances}).sort_values('importance', ascending=False).reset_index(drop=True)\n",
    "    return df\n",
    "\n",
    "def plot_imp(feat_df, title):\n",
    "    feat_df.columns=['feature', 'importance']\n",
    "    sns.barplot(x='importance', y='feature', data=feat_df, orient='h',palette='Spectral').set_title(title, fontsize = 20)\n",
    "    sns.set(rc = {'figure.figsize':(10, 10)})"
   ]
  },
  {
   "cell_type": "markdown",
   "metadata": {},
   "source": [
    "## Model"
   ]
  },
  {
   "cell_type": "code",
   "execution_count": 5,
   "metadata": {},
   "outputs": [],
   "source": [
    "from sklearn.ensemble import RandomForestRegressor\n",
    "from pprint import pprint"
   ]
  },
  {
   "cell_type": "code",
   "execution_count": 6,
   "metadata": {},
   "outputs": [],
   "source": [
    "# Create base model\n",
    "rf = RandomForestRegressor(random_state = 999)"
   ]
  },
  {
   "cell_type": "code",
   "execution_count": 7,
   "metadata": {},
   "outputs": [
    {
     "name": "stdout",
     "output_type": "stream",
     "text": [
      "Parameters currently in use:\n",
      "\n",
      "{'bootstrap': True,\n",
      " 'criterion': 'mse',\n",
      " 'max_depth': None,\n",
      " 'max_features': 'auto',\n",
      " 'max_leaf_nodes': None,\n",
      " 'min_impurity_decrease': 0.0,\n",
      " 'min_impurity_split': None,\n",
      " 'min_samples_leaf': 1,\n",
      " 'min_samples_split': 2,\n",
      " 'min_weight_fraction_leaf': 0.0,\n",
      " 'n_estimators': 'warn',\n",
      " 'n_jobs': None,\n",
      " 'oob_score': False,\n",
      " 'random_state': 999,\n",
      " 'verbose': 0,\n",
      " 'warm_start': False}\n"
     ]
    }
   ],
   "source": [
    "# Check out base/default parameters\n",
    "print('Parameters currently in use:\\n')\n",
    "pprint(rf.get_params())"
   ]
  },
  {
   "cell_type": "markdown",
   "metadata": {},
   "source": [
    "### Choose hyperparameters"
   ]
  },
  {
   "cell_type": "markdown",
   "metadata": {},
   "source": [
    "#### Randomized Search"
   ]
  },
  {
   "cell_type": "markdown",
   "metadata": {},
   "source": [
    "Narrow down search for wide range of values for hyperparameters:"
   ]
  },
  {
   "cell_type": "code",
   "execution_count": 8,
   "metadata": {},
   "outputs": [],
   "source": [
    "from sklearn.model_selection import RandomizedSearchCV"
   ]
  },
  {
   "cell_type": "code",
   "execution_count": 9,
   "metadata": {},
   "outputs": [],
   "source": [
    "# Number of trees in random forest\n",
    "n_estimators = [int(x) for x in np.linspace(start = 2000, stop = 3500, num = 10)]\n",
    "# Number of features to consider at every split\n",
    "max_features = [7, 8, 9, 10, 11, 12, 15, 16, 20, 22]\n",
    "# Minimum number of samples required to split a node\n",
    "min_samples_split = [8, 9, 10]\n",
    "# Out of bag estimate\n",
    "oob_score = [True]"
   ]
  },
  {
   "cell_type": "code",
   "execution_count": 10,
   "metadata": {},
   "outputs": [],
   "source": [
    "# Create the random grid\n",
    "random_grid = {'n_estimators': n_estimators,\n",
    "               'max_features': max_features,\n",
    "               'min_samples_split': min_samples_split,\n",
    "               'oob_score': oob_score\n",
    "              }"
   ]
  },
  {
   "cell_type": "code",
   "execution_count": 11,
   "metadata": {},
   "outputs": [
    {
     "name": "stdout",
     "output_type": "stream",
     "text": [
      "{'max_features': [7, 8, 9, 10, 11, 12, 15, 16, 20, 22],\n",
      " 'min_samples_split': [8, 9, 10],\n",
      " 'n_estimators': [2000, 2166, 2333, 2500, 2666, 2833, 3000, 3166, 3333, 3500],\n",
      " 'oob_score': [True]}\n"
     ]
    }
   ],
   "source": [
    "pprint(random_grid)"
   ]
  },
  {
   "cell_type": "code",
   "execution_count": 12,
   "metadata": {
    "scrolled": true
   },
   "outputs": [
    {
     "name": "stdout",
     "output_type": "stream",
     "text": [
      "Fitting 5 folds for each of 100 candidates, totalling 500 fits\n"
     ]
    },
    {
     "name": "stderr",
     "output_type": "stream",
     "text": [
      "[Parallel(n_jobs=-1)]: Using backend LokyBackend with 8 concurrent workers.\n",
      "[Parallel(n_jobs=-1)]: Done  25 tasks      | elapsed:  1.1min\n",
      "[Parallel(n_jobs=-1)]: Done 146 tasks      | elapsed:  5.2min\n",
      "[Parallel(n_jobs=-1)]: Done 349 tasks      | elapsed: 11.6min\n",
      "[Parallel(n_jobs=-1)]: Done 500 out of 500 | elapsed: 16.4min finished\n"
     ]
    },
    {
     "data": {
      "text/plain": [
       "RandomizedSearchCV(cv=5, error_score='raise-deprecating',\n",
       "                   estimator=RandomForestRegressor(bootstrap=True,\n",
       "                                                   criterion='mse',\n",
       "                                                   max_depth=None,\n",
       "                                                   max_features='auto',\n",
       "                                                   max_leaf_nodes=None,\n",
       "                                                   min_impurity_decrease=0.0,\n",
       "                                                   min_impurity_split=None,\n",
       "                                                   min_samples_leaf=1,\n",
       "                                                   min_samples_split=2,\n",
       "                                                   min_weight_fraction_leaf=0.0,\n",
       "                                                   n_estimators='warn',\n",
       "                                                   n_jobs=None, oob_score=False,\n",
       "                                                   random_state=999, verbose=0,\n",
       "                                                   warm_start=False),\n",
       "                   iid='warn', n_iter=100, n_jobs=-1,\n",
       "                   param_distributions={'max_features': [7, 8, 9, 10, 11, 12,\n",
       "                                                         15, 16, 20, 22],\n",
       "                                        'min_samples_split': [8, 9, 10],\n",
       "                                        'n_estimators': [2000, 2166, 2333, 2500,\n",
       "                                                         2666, 2833, 3000, 3166,\n",
       "                                                         3333, 3500],\n",
       "                                        'oob_score': [True]},\n",
       "                   pre_dispatch='2*n_jobs', random_state=None, refit=True,\n",
       "                   return_train_score=False, scoring=None, verbose=2)"
      ]
     },
     "execution_count": 12,
     "metadata": {},
     "output_type": "execute_result"
    }
   ],
   "source": [
    "# Use the random grid to search for best hyperparameters\n",
    "# Random search of parameters, using 5-fold cross validation\n",
    "rf_random = RandomizedSearchCV(estimator = rf, \n",
    "                               param_distributions = random_grid, \n",
    "                               n_iter = 100, cv = 5, verbose=2, n_jobs = -1)\n",
    "\n",
    "# Fit the random search model\n",
    "rf_random.fit(X_train, y_train)"
   ]
  },
  {
   "cell_type": "code",
   "execution_count": 13,
   "metadata": {},
   "outputs": [
    {
     "data": {
      "text/plain": [
       "{'oob_score': True,\n",
       " 'n_estimators': 3500,\n",
       " 'min_samples_split': 8,\n",
       " 'max_features': 20}"
      ]
     },
     "execution_count": 13,
     "metadata": {},
     "output_type": "execute_result"
    }
   ],
   "source": [
    "rf_random.best_params_"
   ]
  },
  {
   "cell_type": "code",
   "execution_count": 15,
   "metadata": {},
   "outputs": [
    {
     "data": {
      "text/html": [
       "<div>\n",
       "<style scoped>\n",
       "    .dataframe tbody tr th:only-of-type {\n",
       "        vertical-align: middle;\n",
       "    }\n",
       "\n",
       "    .dataframe tbody tr th {\n",
       "        vertical-align: top;\n",
       "    }\n",
       "\n",
       "    .dataframe thead th {\n",
       "        text-align: right;\n",
       "    }\n",
       "</style>\n",
       "<table border=\"1\" class=\"dataframe\">\n",
       "  <thead>\n",
       "    <tr style=\"text-align: right;\">\n",
       "      <th></th>\n",
       "      <th>rank_test_score</th>\n",
       "      <th>mean_test_score</th>\n",
       "      <th>std_test_score</th>\n",
       "      <th>n_estimators</th>\n",
       "      <th>min_samples_split</th>\n",
       "      <th>max_features</th>\n",
       "    </tr>\n",
       "  </thead>\n",
       "  <tbody>\n",
       "    <tr>\n",
       "      <td>77</td>\n",
       "      <td>1</td>\n",
       "      <td>0.873302</td>\n",
       "      <td>0.015488</td>\n",
       "      <td>3500</td>\n",
       "      <td>8</td>\n",
       "      <td>20</td>\n",
       "    </tr>\n",
       "    <tr>\n",
       "      <td>58</td>\n",
       "      <td>2</td>\n",
       "      <td>0.873260</td>\n",
       "      <td>0.015556</td>\n",
       "      <td>3000</td>\n",
       "      <td>8</td>\n",
       "      <td>20</td>\n",
       "    </tr>\n",
       "    <tr>\n",
       "      <td>51</td>\n",
       "      <td>3</td>\n",
       "      <td>0.873245</td>\n",
       "      <td>0.015622</td>\n",
       "      <td>2666</td>\n",
       "      <td>8</td>\n",
       "      <td>20</td>\n",
       "    </tr>\n",
       "    <tr>\n",
       "      <td>69</td>\n",
       "      <td>4</td>\n",
       "      <td>0.873218</td>\n",
       "      <td>0.014041</td>\n",
       "      <td>2000</td>\n",
       "      <td>8</td>\n",
       "      <td>15</td>\n",
       "    </tr>\n",
       "    <tr>\n",
       "      <td>89</td>\n",
       "      <td>5</td>\n",
       "      <td>0.873206</td>\n",
       "      <td>0.013939</td>\n",
       "      <td>2333</td>\n",
       "      <td>8</td>\n",
       "      <td>15</td>\n",
       "    </tr>\n",
       "    <tr>\n",
       "      <td>81</td>\n",
       "      <td>6</td>\n",
       "      <td>0.873189</td>\n",
       "      <td>0.015752</td>\n",
       "      <td>2500</td>\n",
       "      <td>8</td>\n",
       "      <td>22</td>\n",
       "    </tr>\n",
       "    <tr>\n",
       "      <td>10</td>\n",
       "      <td>7</td>\n",
       "      <td>0.873184</td>\n",
       "      <td>0.015957</td>\n",
       "      <td>2000</td>\n",
       "      <td>8</td>\n",
       "      <td>22</td>\n",
       "    </tr>\n",
       "    <tr>\n",
       "      <td>2</td>\n",
       "      <td>8</td>\n",
       "      <td>0.873156</td>\n",
       "      <td>0.015771</td>\n",
       "      <td>3333</td>\n",
       "      <td>8</td>\n",
       "      <td>22</td>\n",
       "    </tr>\n",
       "    <tr>\n",
       "      <td>23</td>\n",
       "      <td>9</td>\n",
       "      <td>0.873154</td>\n",
       "      <td>0.015752</td>\n",
       "      <td>3500</td>\n",
       "      <td>8</td>\n",
       "      <td>22</td>\n",
       "    </tr>\n",
       "    <tr>\n",
       "      <td>80</td>\n",
       "      <td>10</td>\n",
       "      <td>0.873089</td>\n",
       "      <td>0.014069</td>\n",
       "      <td>2833</td>\n",
       "      <td>8</td>\n",
       "      <td>15</td>\n",
       "    </tr>\n",
       "    <tr>\n",
       "      <td>48</td>\n",
       "      <td>11</td>\n",
       "      <td>0.873074</td>\n",
       "      <td>0.014060</td>\n",
       "      <td>3000</td>\n",
       "      <td>8</td>\n",
       "      <td>15</td>\n",
       "    </tr>\n",
       "  </tbody>\n",
       "</table>\n",
       "</div>"
      ],
      "text/plain": [
       "    rank_test_score  mean_test_score  std_test_score  n_estimators  \\\n",
       "77                1         0.873302        0.015488          3500   \n",
       "58                2         0.873260        0.015556          3000   \n",
       "51                3         0.873245        0.015622          2666   \n",
       "69                4         0.873218        0.014041          2000   \n",
       "89                5         0.873206        0.013939          2333   \n",
       "81                6         0.873189        0.015752          2500   \n",
       "10                7         0.873184        0.015957          2000   \n",
       "2                 8         0.873156        0.015771          3333   \n",
       "23                9         0.873154        0.015752          3500   \n",
       "80               10         0.873089        0.014069          2833   \n",
       "48               11         0.873074        0.014060          3000   \n",
       "\n",
       "    min_samples_split  max_features  \n",
       "77                  8            20  \n",
       "58                  8            20  \n",
       "51                  8            20  \n",
       "69                  8            15  \n",
       "89                  8            15  \n",
       "81                  8            22  \n",
       "10                  8            22  \n",
       "2                   8            22  \n",
       "23                  8            22  \n",
       "80                  8            15  \n",
       "48                  8            15  "
      ]
     },
     "execution_count": 15,
     "metadata": {},
     "output_type": "execute_result"
    }
   ],
   "source": [
    "random_scores = pd.DataFrame(rf_random.cv_results_)[['params', 'mean_test_score', 'std_test_score', 'rank_test_score']]\n",
    "random_scores = random_scores.set_index(['rank_test_score', 'mean_test_score', 'std_test_score']).params.apply(pd.Series).drop('oob_score',1).reset_index()\n",
    "random_scores_top_10 = random_scores.sort_values('rank_test_score')[:11]\n",
    "random_scores_top_10"
   ]
  },
  {
   "cell_type": "markdown",
   "metadata": {},
   "source": [
    "Calculate R^2 (coefficient of determination) score, mean test score, oob_score, and mean training error of `rf_random` model using best parameters:"
   ]
  },
  {
   "cell_type": "code",
   "execution_count": 16,
   "metadata": {},
   "outputs": [],
   "source": [
    "from sklearn.metrics import r2_score"
   ]
  },
  {
   "cell_type": "code",
   "execution_count": 20,
   "metadata": {},
   "outputs": [
    {
     "name": "stdout",
     "output_type": "stream",
     "text": [
      "R^2 score: 0.96811\n",
      "Mean test score: 0.87330\n",
      "OOB score: 0.87994\n",
      "Training error: 0.03189\n"
     ]
    }
   ],
   "source": [
    "print('R^2 score: %.5f' %(r2_score(y_train, rf_random.predict(X_train))))\n",
    "print('Mean test score: %.5f' %(rf_random.best_score_))\n",
    "print('OOB score: %.5f' %(rf_random.best_estimator_.oob_score_))\n",
    "print('Training error: %.5f' %(1 - rf_random.score(X_train, y_train)))"
   ]
  },
  {
   "cell_type": "markdown",
   "metadata": {},
   "source": [
    "#### Grid Search"
   ]
  },
  {
   "cell_type": "markdown",
   "metadata": {},
   "source": [
    "Evaluate combination of settings from randomized search:"
   ]
  },
  {
   "cell_type": "code",
   "execution_count": 21,
   "metadata": {},
   "outputs": [],
   "source": [
    "from sklearn.model_selection import GridSearchCV"
   ]
  },
  {
   "cell_type": "code",
   "execution_count": 22,
   "metadata": {},
   "outputs": [
    {
     "data": {
      "text/html": [
       "<div>\n",
       "<style scoped>\n",
       "    .dataframe tbody tr th:only-of-type {\n",
       "        vertical-align: middle;\n",
       "    }\n",
       "\n",
       "    .dataframe tbody tr th {\n",
       "        vertical-align: top;\n",
       "    }\n",
       "\n",
       "    .dataframe thead th {\n",
       "        text-align: right;\n",
       "    }\n",
       "</style>\n",
       "<table border=\"1\" class=\"dataframe\">\n",
       "  <thead>\n",
       "    <tr style=\"text-align: right;\">\n",
       "      <th></th>\n",
       "      <th>rank_test_score</th>\n",
       "      <th>mean_test_score</th>\n",
       "      <th>std_test_score</th>\n",
       "      <th>n_estimators</th>\n",
       "      <th>min_samples_split</th>\n",
       "      <th>max_features</th>\n",
       "    </tr>\n",
       "  </thead>\n",
       "  <tbody>\n",
       "    <tr>\n",
       "      <td>count</td>\n",
       "      <td>11.000000</td>\n",
       "      <td>11.000000</td>\n",
       "      <td>11.000000</td>\n",
       "      <td>11.000000</td>\n",
       "      <td>11.0</td>\n",
       "      <td>11.000000</td>\n",
       "    </tr>\n",
       "    <tr>\n",
       "      <td>mean</td>\n",
       "      <td>6.000000</td>\n",
       "      <td>0.873189</td>\n",
       "      <td>0.015091</td>\n",
       "      <td>2787.727273</td>\n",
       "      <td>8.0</td>\n",
       "      <td>18.909091</td>\n",
       "    </tr>\n",
       "    <tr>\n",
       "      <td>std</td>\n",
       "      <td>3.316625</td>\n",
       "      <td>0.000069</td>\n",
       "      <td>0.000853</td>\n",
       "      <td>543.099087</td>\n",
       "      <td>0.0</td>\n",
       "      <td>3.207945</td>\n",
       "    </tr>\n",
       "    <tr>\n",
       "      <td>min</td>\n",
       "      <td>1.000000</td>\n",
       "      <td>0.873074</td>\n",
       "      <td>0.013939</td>\n",
       "      <td>2000.000000</td>\n",
       "      <td>8.0</td>\n",
       "      <td>15.000000</td>\n",
       "    </tr>\n",
       "    <tr>\n",
       "      <td>25%</td>\n",
       "      <td>3.500000</td>\n",
       "      <td>0.873155</td>\n",
       "      <td>0.014065</td>\n",
       "      <td>2416.500000</td>\n",
       "      <td>8.0</td>\n",
       "      <td>15.000000</td>\n",
       "    </tr>\n",
       "    <tr>\n",
       "      <td>50%</td>\n",
       "      <td>6.000000</td>\n",
       "      <td>0.873189</td>\n",
       "      <td>0.015556</td>\n",
       "      <td>2833.000000</td>\n",
       "      <td>8.0</td>\n",
       "      <td>20.000000</td>\n",
       "    </tr>\n",
       "    <tr>\n",
       "      <td>75%</td>\n",
       "      <td>8.500000</td>\n",
       "      <td>0.873232</td>\n",
       "      <td>0.015752</td>\n",
       "      <td>3166.500000</td>\n",
       "      <td>8.0</td>\n",
       "      <td>22.000000</td>\n",
       "    </tr>\n",
       "    <tr>\n",
       "      <td>max</td>\n",
       "      <td>11.000000</td>\n",
       "      <td>0.873302</td>\n",
       "      <td>0.015957</td>\n",
       "      <td>3500.000000</td>\n",
       "      <td>8.0</td>\n",
       "      <td>22.000000</td>\n",
       "    </tr>\n",
       "  </tbody>\n",
       "</table>\n",
       "</div>"
      ],
      "text/plain": [
       "       rank_test_score  mean_test_score  std_test_score  n_estimators  \\\n",
       "count        11.000000        11.000000       11.000000     11.000000   \n",
       "mean          6.000000         0.873189        0.015091   2787.727273   \n",
       "std           3.316625         0.000069        0.000853    543.099087   \n",
       "min           1.000000         0.873074        0.013939   2000.000000   \n",
       "25%           3.500000         0.873155        0.014065   2416.500000   \n",
       "50%           6.000000         0.873189        0.015556   2833.000000   \n",
       "75%           8.500000         0.873232        0.015752   3166.500000   \n",
       "max          11.000000         0.873302        0.015957   3500.000000   \n",
       "\n",
       "       min_samples_split  max_features  \n",
       "count               11.0     11.000000  \n",
       "mean                 8.0     18.909091  \n",
       "std                  0.0      3.207945  \n",
       "min                  8.0     15.000000  \n",
       "25%                  8.0     15.000000  \n",
       "50%                  8.0     20.000000  \n",
       "75%                  8.0     22.000000  \n",
       "max                  8.0     22.000000  "
      ]
     },
     "execution_count": 22,
     "metadata": {},
     "output_type": "execute_result"
    }
   ],
   "source": [
    "random_scores_top_10.describe()"
   ]
  },
  {
   "cell_type": "code",
   "execution_count": 24,
   "metadata": {},
   "outputs": [],
   "source": [
    "param_grid = {\n",
    "    'max_features': [15, 16, 18, 20, 22],\n",
    "    'min_samples_split': [7, 8, 9],\n",
    "    'n_estimators': [2000, 2400, 2500, 2800, 3166],\n",
    "    'oob_score': [True]\n",
    "}"
   ]
  },
  {
   "cell_type": "code",
   "execution_count": 25,
   "metadata": {},
   "outputs": [
    {
     "name": "stdout",
     "output_type": "stream",
     "text": [
      "Fitting 5 folds for each of 75 candidates, totalling 375 fits\n"
     ]
    },
    {
     "name": "stderr",
     "output_type": "stream",
     "text": [
      "[Parallel(n_jobs=-1)]: Using backend LokyBackend with 8 concurrent workers.\n",
      "[Parallel(n_jobs=-1)]: Done  25 tasks      | elapsed:  1.1min\n",
      "[Parallel(n_jobs=-1)]: Done 146 tasks      | elapsed:  5.7min\n",
      "[Parallel(n_jobs=-1)]: Done 349 tasks      | elapsed: 13.7min\n",
      "[Parallel(n_jobs=-1)]: Done 375 out of 375 | elapsed: 14.7min finished\n"
     ]
    },
    {
     "data": {
      "text/plain": [
       "GridSearchCV(cv=5, error_score='raise-deprecating',\n",
       "             estimator=RandomForestRegressor(bootstrap=True, criterion='mse',\n",
       "                                             max_depth=None,\n",
       "                                             max_features='auto',\n",
       "                                             max_leaf_nodes=None,\n",
       "                                             min_impurity_decrease=0.0,\n",
       "                                             min_impurity_split=None,\n",
       "                                             min_samples_leaf=1,\n",
       "                                             min_samples_split=2,\n",
       "                                             min_weight_fraction_leaf=0.0,\n",
       "                                             n_estimators='warn', n_jobs=None,\n",
       "                                             oob_score=False, random_state=999,\n",
       "                                             verbose=0, warm_start=False),\n",
       "             iid='warn', n_jobs=-1,\n",
       "             param_grid={'max_features': [15, 16, 18, 20, 22],\n",
       "                         'min_samples_split': [7, 8, 9],\n",
       "                         'n_estimators': [2000, 2400, 2500, 2800, 3166],\n",
       "                         'oob_score': [True]},\n",
       "             pre_dispatch='2*n_jobs', refit=True, return_train_score=False,\n",
       "             scoring=None, verbose=2)"
      ]
     },
     "execution_count": 25,
     "metadata": {},
     "output_type": "execute_result"
    }
   ],
   "source": [
    "# Use gridSearchCV to search to narrow down parameters\n",
    "grid_search = GridSearchCV(estimator = rf, param_grid = param_grid,\n",
    "                           cv = 5, n_jobs = -1, verbose = 2)\n",
    "\n",
    "# Fit the random search model\n",
    "grid_search.fit(X_train, y_train)"
   ]
  },
  {
   "cell_type": "code",
   "execution_count": 26,
   "metadata": {},
   "outputs": [
    {
     "data": {
      "text/plain": [
       "{'max_features': 20,\n",
       " 'min_samples_split': 7,\n",
       " 'n_estimators': 2000,\n",
       " 'oob_score': True}"
      ]
     },
     "execution_count": 26,
     "metadata": {},
     "output_type": "execute_result"
    }
   ],
   "source": [
    "grid_search.best_params_"
   ]
  },
  {
   "cell_type": "code",
   "execution_count": 27,
   "metadata": {},
   "outputs": [
    {
     "data": {
      "text/html": [
       "<div>\n",
       "<style scoped>\n",
       "    .dataframe tbody tr th:only-of-type {\n",
       "        vertical-align: middle;\n",
       "    }\n",
       "\n",
       "    .dataframe tbody tr th {\n",
       "        vertical-align: top;\n",
       "    }\n",
       "\n",
       "    .dataframe thead th {\n",
       "        text-align: right;\n",
       "    }\n",
       "</style>\n",
       "<table border=\"1\" class=\"dataframe\">\n",
       "  <thead>\n",
       "    <tr style=\"text-align: right;\">\n",
       "      <th></th>\n",
       "      <th>rank_test_score</th>\n",
       "      <th>mean_test_score</th>\n",
       "      <th>std_test_score</th>\n",
       "      <th>max_features</th>\n",
       "      <th>min_samples_split</th>\n",
       "      <th>n_estimators</th>\n",
       "    </tr>\n",
       "  </thead>\n",
       "  <tbody>\n",
       "    <tr>\n",
       "      <td>45</td>\n",
       "      <td>1</td>\n",
       "      <td>0.873941</td>\n",
       "      <td>0.015156</td>\n",
       "      <td>20</td>\n",
       "      <td>7</td>\n",
       "      <td>2000</td>\n",
       "    </tr>\n",
       "    <tr>\n",
       "      <td>47</td>\n",
       "      <td>2</td>\n",
       "      <td>0.873918</td>\n",
       "      <td>0.015122</td>\n",
       "      <td>20</td>\n",
       "      <td>7</td>\n",
       "      <td>2500</td>\n",
       "    </tr>\n",
       "    <tr>\n",
       "      <td>49</td>\n",
       "      <td>3</td>\n",
       "      <td>0.873911</td>\n",
       "      <td>0.015138</td>\n",
       "      <td>20</td>\n",
       "      <td>7</td>\n",
       "      <td>3166</td>\n",
       "    </tr>\n",
       "    <tr>\n",
       "      <td>46</td>\n",
       "      <td>4</td>\n",
       "      <td>0.873902</td>\n",
       "      <td>0.015136</td>\n",
       "      <td>20</td>\n",
       "      <td>7</td>\n",
       "      <td>2400</td>\n",
       "    </tr>\n",
       "    <tr>\n",
       "      <td>33</td>\n",
       "      <td>5</td>\n",
       "      <td>0.873859</td>\n",
       "      <td>0.015107</td>\n",
       "      <td>18</td>\n",
       "      <td>7</td>\n",
       "      <td>2800</td>\n",
       "    </tr>\n",
       "    <tr>\n",
       "      <td>31</td>\n",
       "      <td>6</td>\n",
       "      <td>0.873835</td>\n",
       "      <td>0.015103</td>\n",
       "      <td>18</td>\n",
       "      <td>7</td>\n",
       "      <td>2400</td>\n",
       "    </tr>\n",
       "    <tr>\n",
       "      <td>48</td>\n",
       "      <td>7</td>\n",
       "      <td>0.873826</td>\n",
       "      <td>0.015182</td>\n",
       "      <td>20</td>\n",
       "      <td>7</td>\n",
       "      <td>2800</td>\n",
       "    </tr>\n",
       "    <tr>\n",
       "      <td>32</td>\n",
       "      <td>8</td>\n",
       "      <td>0.873797</td>\n",
       "      <td>0.015127</td>\n",
       "      <td>18</td>\n",
       "      <td>7</td>\n",
       "      <td>2500</td>\n",
       "    </tr>\n",
       "    <tr>\n",
       "      <td>30</td>\n",
       "      <td>9</td>\n",
       "      <td>0.873760</td>\n",
       "      <td>0.015115</td>\n",
       "      <td>18</td>\n",
       "      <td>7</td>\n",
       "      <td>2000</td>\n",
       "    </tr>\n",
       "    <tr>\n",
       "      <td>34</td>\n",
       "      <td>10</td>\n",
       "      <td>0.873755</td>\n",
       "      <td>0.015118</td>\n",
       "      <td>18</td>\n",
       "      <td>7</td>\n",
       "      <td>3166</td>\n",
       "    </tr>\n",
       "    <tr>\n",
       "      <td>1</td>\n",
       "      <td>11</td>\n",
       "      <td>0.873551</td>\n",
       "      <td>0.014278</td>\n",
       "      <td>15</td>\n",
       "      <td>7</td>\n",
       "      <td>2400</td>\n",
       "    </tr>\n",
       "  </tbody>\n",
       "</table>\n",
       "</div>"
      ],
      "text/plain": [
       "    rank_test_score  mean_test_score  std_test_score  max_features  \\\n",
       "45                1         0.873941        0.015156            20   \n",
       "47                2         0.873918        0.015122            20   \n",
       "49                3         0.873911        0.015138            20   \n",
       "46                4         0.873902        0.015136            20   \n",
       "33                5         0.873859        0.015107            18   \n",
       "31                6         0.873835        0.015103            18   \n",
       "48                7         0.873826        0.015182            20   \n",
       "32                8         0.873797        0.015127            18   \n",
       "30                9         0.873760        0.015115            18   \n",
       "34               10         0.873755        0.015118            18   \n",
       "1                11         0.873551        0.014278            15   \n",
       "\n",
       "    min_samples_split  n_estimators  \n",
       "45                  7          2000  \n",
       "47                  7          2500  \n",
       "49                  7          3166  \n",
       "46                  7          2400  \n",
       "33                  7          2800  \n",
       "31                  7          2400  \n",
       "48                  7          2800  \n",
       "32                  7          2500  \n",
       "30                  7          2000  \n",
       "34                  7          3166  \n",
       "1                   7          2400  "
      ]
     },
     "execution_count": 27,
     "metadata": {},
     "output_type": "execute_result"
    }
   ],
   "source": [
    "grid_scores = pd.DataFrame(grid_search.cv_results_)[['params', 'mean_test_score', 'std_test_score', 'rank_test_score']]\n",
    "grid_scores = grid_scores.set_index(['rank_test_score', 'mean_test_score', 'std_test_score']).params.apply(pd.Series).drop('oob_score',1).reset_index()\n",
    "grid_scores.sort_values('rank_test_score')[:11]"
   ]
  },
  {
   "cell_type": "markdown",
   "metadata": {},
   "source": [
    "Calculate R^2 (coefficient of determination) score, mean test score, oob_score, and mean training error of `grid_search` model using best parameters:"
   ]
  },
  {
   "cell_type": "code",
   "execution_count": 28,
   "metadata": {},
   "outputs": [
    {
     "name": "stdout",
     "output_type": "stream",
     "text": [
      "R^2 score: 0.97070\n",
      "Mean test score: 0.87394\n",
      "OOB score: 0.87985\n",
      "Training error: 0.02930\n"
     ]
    }
   ],
   "source": [
    "print('R^2 score: %.5f' %(r2_score(y_train, grid_search.predict(X_train))))\n",
    "print('Mean test score: %.5f' %(grid_search.best_score_))\n",
    "print('OOB score: %.5f' %(grid_search.best_estimator_.oob_score_))\n",
    "print('Training error: %.5f' %(1 - grid_search.score(X_train, y_train)))"
   ]
  },
  {
   "cell_type": "markdown",
   "metadata": {},
   "source": [
    "## Feature importance"
   ]
  },
  {
   "cell_type": "markdown",
   "metadata": {},
   "source": [
    "### Measure: mean decrease in impurity (variance)\n",
    "\n",
    "The default measure of feature importance in scikit-learn is mean decrease in impurity, which refers to variance (regression trees) or Gini impurity/entropy (classification trees).\n",
    "\n",
    "Some things to keep in mind about mean decrease in purity:\n",
    "\n",
    "- Biased towards preferring features with more categories ([Strobl, et. al (2007)](https://link.springer.com/article/10.1186%2F1471-2105-8-25))\n",
    "- Less reliable when it comes to features with differing scale of measurements ([Strobl, et. al (2007)](https://link.springer.com/article/10.1186%2F1471-2105-8-25))\n",
    "- One of the correlated features will be artificially ranked in importance because \"from the point of the model, any of these correlated features can be used as the predictor, with no concrete preference of one over the others\" ([T. Parr, et. al (2018)](https://explained.ai/rf-importance/))"
   ]
  },
  {
   "cell_type": "markdown",
   "metadata": {},
   "source": [
    "Calculate feature importance using `sklearn`'s default mean decrease in impurity mechanism:"
   ]
  },
  {
   "cell_type": "code",
   "execution_count": 29,
   "metadata": {},
   "outputs": [
    {
     "name": "stdout",
     "output_type": "stream",
     "text": [
      "Feature: Neighborhood         Importance: 0.19\n",
      "Feature: GrLivArea            Importance: 0.17\n",
      "Feature: YearBuilt            Importance: 0.09\n",
      "Feature: TotalBsmtSF          Importance: 0.06\n",
      "Feature: GarageCars           Importance: 0.06\n",
      "Feature: 1stFlrSF             Importance: 0.05\n",
      "Feature: GarageArea           Importance: 0.05\n",
      "Feature: OverallQual          Importance: 0.03\n",
      "Feature: GarageYrBlt          Importance: 0.03\n",
      "Feature: GarageFinish         Importance: 0.03\n",
      "Feature: MSSubClass           Importance: 0.02\n",
      "Feature: LotArea              Importance: 0.02\n",
      "Feature: YearRemodAdd         Importance: 0.02\n",
      "Feature: 2ndFlrSF             Importance: 0.02\n",
      "Feature: FireplaceQu          Importance: 0.02\n",
      "Feature: MSZoning             Importance: 0.01\n",
      "Feature: LotFrontage          Importance: 0.01\n",
      "Feature: ExterQual            Importance: 0.01\n",
      "Feature: Foundation           Importance: 0.01\n",
      "Feature: BsmtQual             Importance: 0.01\n",
      "Feature: CentralAir           Importance: 0.01\n",
      "Feature: KitchenQual          Importance: 0.01\n",
      "Feature: Fireplaces           Importance: 0.01\n",
      "Feature: TotalPorchAreasSF    Importance: 0.01\n",
      "Feature: TotalBath            Importance: 0.01\n",
      "Feature: Alley                Importance: 0.0\n",
      "Feature: LotShape             Importance: 0.0\n",
      "Feature: LandContour          Importance: 0.0\n",
      "Feature: LotConfig            Importance: 0.0\n",
      "Feature: LandSlope            Importance: 0.0\n",
      "Feature: Condition1           Importance: 0.0\n",
      "Feature: Condition2           Importance: 0.0\n",
      "Feature: BldgType             Importance: 0.0\n",
      "Feature: HouseStyle           Importance: 0.0\n",
      "Feature: OverallCond          Importance: 0.0\n",
      "Feature: RoofStyle            Importance: 0.0\n",
      "Feature: RoofMatl             Importance: 0.0\n",
      "Feature: Exterior1st          Importance: 0.0\n",
      "Feature: Exterior2nd          Importance: 0.0\n",
      "Feature: MasVnrType           Importance: 0.0\n",
      "Feature: MasVnrArea           Importance: 0.0\n",
      "Feature: ExterCond            Importance: 0.0\n",
      "Feature: BsmtCond             Importance: 0.0\n",
      "Feature: BsmtExposure         Importance: 0.0\n",
      "Feature: BsmtFinType1         Importance: 0.0\n",
      "Feature: BsmtFinType2         Importance: 0.0\n",
      "Feature: Heating              Importance: 0.0\n",
      "Feature: HeatingQC            Importance: 0.0\n",
      "Feature: Electrical           Importance: 0.0\n",
      "Feature: LowQualFinSF         Importance: 0.0\n",
      "Feature: BedroomAbvGr         Importance: 0.0\n",
      "Feature: KitchenAbvGr         Importance: 0.0\n",
      "Feature: Functional           Importance: 0.0\n",
      "Feature: GarageType           Importance: 0.0\n",
      "Feature: GarageQual           Importance: 0.0\n",
      "Feature: GarageCond           Importance: 0.0\n",
      "Feature: PavedDrive           Importance: 0.0\n",
      "Feature: PoolArea             Importance: 0.0\n",
      "Feature: Fence                Importance: 0.0\n",
      "Feature: MiscVal              Importance: 0.0\n",
      "Feature: MoSold               Importance: 0.0\n",
      "Feature: YrSold               Importance: 0.0\n",
      "Feature: SaleType             Importance: 0.0\n",
      "Feature: SaleCondition        Importance: 0.0\n",
      "Feature: Remodeled            Importance: 0.0\n",
      "Feature: OtherRoomsAbvGrd     Importance: 0.0\n"
     ]
    }
   ],
   "source": [
    "rf_features = list(X_train.columns)\n",
    "\n",
    "importances = list(grid_search.best_estimator_.feature_importances_)\n",
    "\n",
    "feature_importances = [(feature, round(importance, 2)) for feature,\n",
    "                      importance in zip(rf_features, importances)]\n",
    "feature_importances = sorted(feature_importances, key = lambda x: x[1], reverse = True)\n",
    "\n",
    "[print('Feature: {:20} Importance: {}'.format(*pair)) for pair in feature_importances][0]"
   ]
  },
  {
   "cell_type": "markdown",
   "metadata": {},
   "source": [
    "### Measure: Permutation importance\n",
    "\n",
    "Permutation importance measures feature importance by permuting the values of each predictor feature to measure model performance. The advantage of this method is that it preserves the distribution of the feature and generally gives more reliable results than mean decrease in purity. In detail:\n",
    "\n",
    "1. Pass a validation set or out-of-bag (OOB) samples through Random Forest to record baseline accuracy (classifier) or R^2 score (regressor)\n",
    "2. Randomly reshuffle values of a predictor feature\n",
    "3. Pass all test samples back through Random Forest and recompute accuracy or R^2\n",
    "4. Calculate difference between the baseline accuracy or R^2 and the drop in overall accuracy or R^2 after reshuffling"
   ]
  },
  {
   "cell_type": "markdown",
   "metadata": {},
   "source": [
    "Calculate permutation feature importance using `rfpimp`:"
   ]
  },
  {
   "cell_type": "code",
   "execution_count": 30,
   "metadata": {},
   "outputs": [],
   "source": [
    "from rfpimp import *"
   ]
  },
  {
   "cell_type": "code",
   "execution_count": 31,
   "metadata": {},
   "outputs": [
    {
     "name": "stdout",
     "output_type": "stream",
     "text": [
      "Fitting 5 folds for each of 75 candidates, totalling 375 fits\n"
     ]
    },
    {
     "name": "stderr",
     "output_type": "stream",
     "text": [
      "[Parallel(n_jobs=-1)]: Using backend LokyBackend with 8 concurrent workers.\n",
      "[Parallel(n_jobs=-1)]: Done  25 tasks      | elapsed:  1.1min\n",
      "[Parallel(n_jobs=-1)]: Done 146 tasks      | elapsed:  5.6min\n",
      "[Parallel(n_jobs=-1)]: Done 349 tasks      | elapsed: 13.7min\n",
      "[Parallel(n_jobs=-1)]: Done 375 out of 375 | elapsed: 14.7min finished\n"
     ]
    }
   ],
   "source": [
    "def r2(grid_search, X_train, y_train):\n",
    "    return r2_score(y_train, grid_search.predict(X_train))\n",
    "\n",
    "rfpimp_perm = permutation_importances(grid_search, X_train, y_train, r2)"
   ]
  },
  {
   "cell_type": "code",
   "execution_count": 70,
   "metadata": {},
   "outputs": [
    {
     "name": "stdout",
     "output_type": "stream",
     "text": [
      "              Feature  Importance\n",
      "0           GrLivArea    0.153156\n",
      "1        Neighborhood    0.100231\n",
      "2         TotalBsmtSF    0.037151\n",
      "3           YearBuilt    0.029625\n",
      "4            1stFlrSF    0.028160\n",
      "5         OverallQual    0.021757\n",
      "6          GarageArea    0.019712\n",
      "7          GarageCars    0.017956\n",
      "8        YearRemodAdd    0.011277\n",
      "9             LotArea    0.011239\n",
      "10           2ndFlrSF    0.008659\n",
      "11        FireplaceQu    0.008513\n",
      "12         Fireplaces    0.008051\n",
      "13        GarageYrBlt    0.008004\n",
      "14         CentralAir    0.007630\n",
      "15  TotalPorchAreasSF    0.007222\n",
      "16         MSSubClass    0.007014\n",
      "17       GarageFinish    0.006043\n",
      "18          TotalBath    0.004307\n",
      "19        LotFrontage    0.004050\n",
      "20        OverallCond    0.003731\n",
      "21        KitchenQual    0.003628\n",
      "22           BsmtQual    0.003304\n",
      "23           MSZoning    0.003284\n",
      "24       BsmtFinType1    0.003236\n",
      "25          ExterQual    0.002432\n",
      "26             MoSold    0.002107\n",
      "27         MasVnrArea    0.002000\n",
      "28      SaleCondition    0.001999\n",
      "29       BedroomAbvGr    0.001792\n",
      "30          HeatingQC    0.001772\n",
      "31         Foundation    0.001709\n",
      "32        Exterior1st    0.001619\n",
      "33         GarageQual    0.001481\n",
      "34        Exterior2nd    0.001455\n",
      "35         GarageCond    0.001291\n",
      "36   OtherRoomsAbvGrd    0.001240\n",
      "37           BsmtCond    0.001237\n",
      "38         GarageType    0.001225\n",
      "39          ExterCond    0.001147\n",
      "40       BsmtExposure    0.000988\n",
      "41         HouseStyle    0.000985\n",
      "42         PavedDrive    0.000977\n",
      "43             YrSold    0.000919\n",
      "44        LandContour    0.000876\n",
      "45         Functional    0.000781\n",
      "46          RoofStyle    0.000674\n",
      "47         Condition1    0.000583\n",
      "48         MasVnrType    0.000564\n",
      "49          LandSlope    0.000532\n",
      "50           SaleType    0.000523\n",
      "51       KitchenAbvGr    0.000467\n",
      "52           LotShape    0.000456\n",
      "53         Electrical    0.000441\n",
      "54           BldgType    0.000364\n",
      "55          LotConfig    0.000361\n",
      "56              Fence    0.000308\n",
      "57          Remodeled    0.000301\n",
      "58              Alley    0.000236\n",
      "59            Heating    0.000233\n",
      "60       BsmtFinType2    0.000221\n",
      "61           RoofMatl    0.000190\n",
      "62       LowQualFinSF    0.000148\n",
      "63            MiscVal    0.000123\n",
      "64         Condition2    0.000088\n",
      "65           PoolArea    0.000044\n"
     ]
    }
   ],
   "source": [
    "rfpimp_perm = rfpimp_perm.reset_index()\n",
    "print_all(rfpimp_perm.sort_values(by='Importance', ascending = False))"
   ]
  },
  {
   "cell_type": "markdown",
   "metadata": {},
   "source": [
    "### Measure: Drop-column importance\n",
    "\n",
    "Drop-column importance investigates feature importance by comparing the performance score of a reduced model with a dropped feature to the performance score of a baseline model with all features. In detail:\n",
    "\n",
    "1. Determine performance score of baseline model with permutation importance\n",
    "2. Drop a column\n",
    "3. Retrain model\n",
    "4. Recompute performance score of reduced model with dropped feature\n",
    "5. Calculate the difference between baseline performance score and performaence score of reduced model\n",
    "\n",
    "The key advantage of drop-column importance is that it measures feature importance more directly than even permutation importance, and thus provides a \"ground truth\" for feature importance ([T. Parr, et. al (2018)](https://explained.ai/rf-importance/)).\n",
    "\n",
    "One thing to keep in mind: the importance value may change between retrainings, but the order of importance should remain the same."
   ]
  },
  {
   "cell_type": "markdown",
   "metadata": {},
   "source": [
    "Use `rfpimp` to implement drop-column importance:"
   ]
  },
  {
   "cell_type": "code",
   "execution_count": 64,
   "metadata": {},
   "outputs": [],
   "source": [
    "rf_saturated = RandomForestRegressor(n_estimators = 2000, min_samples_split = 7, \n",
    "                                     max_features = 20, random_state = 999,\n",
    "                                     oob_score = True, n_jobs = -1)"
   ]
  },
  {
   "cell_type": "code",
   "execution_count": 65,
   "metadata": {},
   "outputs": [],
   "source": [
    "drop_col_feat = dropcol_importances(rf_saturated, X_train, y_train)"
   ]
  },
  {
   "cell_type": "code",
   "execution_count": 66,
   "metadata": {},
   "outputs": [
    {
     "name": "stdout",
     "output_type": "stream",
     "text": [
      "                   Importance\n",
      "Feature                      \n",
      "GrLivArea            0.001925\n",
      "Neighborhood         0.001399\n",
      "OverallQual          0.000981\n",
      "YearRemodAdd         0.000557\n",
      "LotArea              0.000329\n",
      "CentralAir           0.000275\n",
      "TotalBsmtSF          0.000230\n",
      "MSZoning             0.000222\n",
      "TotalPorchAreasSF    0.000214\n",
      "OverallCond          0.000151\n",
      "BsmtFinType1         0.000111\n",
      "1stFlrSF             0.000084\n",
      "Functional           0.000075\n",
      "TotalBath            0.000073\n",
      "GarageYrBlt          0.000068\n",
      "KitchenQual          0.000036\n",
      "BedroomAbvGr         0.000027\n",
      "YrSold               0.000023\n",
      "FireplaceQu          0.000005\n",
      "GarageType           0.000001\n",
      "SaleCondition       -0.000004\n",
      "YearBuilt           -0.000021\n",
      "2ndFlrSF            -0.000036\n",
      "HeatingQC           -0.000051\n",
      "Fireplaces          -0.000072\n",
      "MoSold              -0.000074\n",
      "Exterior1st         -0.000087\n",
      "BsmtCond            -0.000091\n",
      "BsmtFinType2        -0.000094\n",
      "OtherRoomsAbvGrd    -0.000105\n",
      "Alley               -0.000116\n",
      "GarageFinish        -0.000119\n",
      "MiscVal             -0.000124\n",
      "LandContour         -0.000124\n",
      "RoofStyle           -0.000133\n",
      "Condition2          -0.000134\n",
      "KitchenAbvGr        -0.000144\n",
      "MasVnrArea          -0.000145\n",
      "GarageQual          -0.000154\n",
      "LotShape            -0.000161\n",
      "PavedDrive          -0.000165\n",
      "MasVnrType          -0.000168\n",
      "Fence               -0.000169\n",
      "ExterQual           -0.000174\n",
      "BsmtExposure        -0.000176\n",
      "LandSlope           -0.000176\n",
      "BsmtQual            -0.000178\n",
      "RoofMatl            -0.000199\n",
      "MSSubClass          -0.000207\n",
      "Heating             -0.000208\n",
      "LotFrontage         -0.000220\n",
      "Exterior2nd         -0.000221\n",
      "GarageArea          -0.000223\n",
      "SaleType            -0.000233\n",
      "GarageCars          -0.000234\n",
      "ExterCond           -0.000237\n",
      "BldgType            -0.000254\n",
      "LowQualFinSF        -0.000255\n",
      "Condition1          -0.000256\n",
      "HouseStyle          -0.000261\n",
      "Electrical          -0.000263\n",
      "Remodeled           -0.000277\n",
      "LotConfig           -0.000295\n",
      "PoolArea            -0.000315\n",
      "Foundation          -0.000331\n",
      "GarageCond          -0.000361\n"
     ]
    }
   ],
   "source": [
    "print_all(drop_col_feat.sort_values('Importance', ascending = False))"
   ]
  },
  {
   "cell_type": "markdown",
   "metadata": {},
   "source": [
    "### Conditional feature importance"
   ]
  },
  {
   "cell_type": "markdown",
   "metadata": {},
   "source": [
    "Identify indexes with the lowest and highest absolute prediction errors, which represent best and worst predictions:"
   ]
  },
  {
   "cell_type": "code",
   "execution_count": 67,
   "metadata": {},
   "outputs": [
    {
     "name": "stdout",
     "output_type": "stream",
     "text": [
      "Index with smallest error: 1444\n",
      "Inxex with largest error: 1397\n"
     ]
    }
   ],
   "source": [
    "pred_diff = pd.DataFrame({'difference': abs(y_train - rf_saturated.fit(X_train, y_train).predict(X_train))})\n",
    "\n",
    "print('Index with smallest error:', pred_diff.sort_values('difference').head(1).index.values[0])\n",
    "print('Inxex with largest error:', pred_diff.sort_values('difference', ascending = False).head(1).index.values[0])"
   ]
  },
  {
   "cell_type": "markdown",
   "metadata": {},
   "source": [
    "Explanation here:"
   ]
  },
  {
   "cell_type": "code",
   "execution_count": 445,
   "metadata": {},
   "outputs": [],
   "source": [
    "from treeinterpreter import treeinterpreter as ti, utils"
   ]
  },
  {
   "cell_type": "code",
   "execution_count": 446,
   "metadata": {},
   "outputs": [
    {
     "name": "stdout",
     "output_type": "stream",
     "text": [
      "Row 1444\n",
      "Prediction: 11.732024221692335\n",
      "Actual Value: 11.732069026983154\n",
      "Bias (trainset mean) 12.024077228081843\n",
      "Feature contributions:\n",
      "GrLivArea -0.12\n",
      "Neighborhood -0.04\n",
      "1stFlrSF -0.03\n",
      "GarageCars -0.03\n",
      "TotalBath -0.02\n",
      "GarageArea -0.02\n",
      "GarageFinish -0.02\n",
      "TotalBsmtSF -0.01\n",
      "FireplaceQu -0.01\n",
      "Fireplaces -0.01\n",
      "GarageYrBlt -0.01\n",
      "YearRemodAdd 0.01\n",
      "BsmtFinType1 0.01\n",
      "MSSubClass 0.01\n",
      "CentralAir 0.01\n",
      "2ndFlrSF -0.01\n",
      "OverallQual 0.01\n",
      "LotFrontage 0.01\n",
      "OverallCond 0.01\n",
      "YearBuilt -0.01\n",
      "GarageQual 0.01\n",
      "GarageCond 0.0\n",
      "SaleCondition 0.0\n",
      "LotArea -0.0\n",
      "Foundation -0.0\n",
      "MoSold 0.0\n",
      "TotalPorchAreasSF 0.0\n",
      "MSZoning 0.0\n",
      "HouseStyle -0.0\n",
      "BsmtExposure 0.0\n",
      "BedroomAbvGr -0.0\n",
      "ExterQual -0.0\n",
      "PavedDrive 0.0\n",
      "BsmtCond 0.0\n",
      "HeatingQC -0.0\n",
      "Exterior2nd 0.0\n",
      "MasVnrArea -0.0\n",
      "OtherRoomsAbvGrd -0.0\n",
      "BsmtFinType2 0.0\n",
      "Remodeled -0.0\n",
      "KitchenQual -0.0\n",
      "YrSold 0.0\n",
      "RoofStyle -0.0\n",
      "LotConfig -0.0\n",
      "GarageType 0.0\n",
      "Condition1 0.0\n",
      "BsmtQual 0.0\n",
      "SaleType 0.0\n",
      "Fence 0.0\n",
      "Electrical 0.0\n",
      "MasVnrType -0.0\n",
      "BldgType 0.0\n",
      "ExterCond -0.0\n",
      "LotShape -0.0\n",
      "LandContour 0.0\n",
      "Condition2 0.0\n",
      "Functional 0.0\n",
      "Heating 0.0\n",
      "LowQualFinSF 0.0\n",
      "Alley -0.0\n",
      "MiscVal 0.0\n",
      "Exterior1st -0.0\n",
      "KitchenAbvGr 0.0\n",
      "LandSlope 0.0\n",
      "RoofMatl -0.0\n",
      "PoolArea -0.0\n",
      "--------------------\n",
      "Row 1397\n",
      "Prediction: 11.03040373700714\n",
      "Actual Value: 10.59665973278358\n",
      "Bias (trainset mean) 12.024077228081843\n",
      "Feature contributions:\n",
      "Neighborhood -0.14\n",
      "MSZoning -0.13\n",
      "CentralAir -0.09\n",
      "1stFlrSF -0.09\n",
      "OverallQual -0.07\n",
      "TotalBsmtSF -0.05\n",
      "YearBuilt -0.05\n",
      "ExterCond -0.05\n",
      "GrLivArea -0.04\n",
      "Alley -0.03\n",
      "GarageYrBlt -0.03\n",
      "YearRemodAdd -0.02\n",
      "RoofStyle -0.02\n",
      "GarageCars -0.02\n",
      "GarageFinish -0.02\n",
      "LotFrontage -0.02\n",
      "GarageArea -0.02\n",
      "FireplaceQu -0.02\n",
      "GarageCond -0.01\n",
      "Fireplaces -0.01\n",
      "PavedDrive -0.01\n",
      "OverallCond -0.01\n",
      "Fence -0.01\n",
      "Foundation -0.01\n",
      "Exterior1st -0.01\n",
      "TotalBath -0.01\n",
      "2ndFlrSF -0.0\n",
      "LotArea -0.0\n",
      "Condition1 -0.0\n",
      "Exterior2nd -0.0\n",
      "GarageQual 0.0\n",
      "BedroomAbvGr 0.0\n",
      "SaleCondition 0.0\n",
      "MSSubClass 0.0\n",
      "BsmtFinType1 -0.0\n",
      "TotalPorchAreasSF -0.0\n",
      "HeatingQC -0.0\n",
      "GarageType 0.0\n",
      "HouseStyle -0.0\n",
      "ExterQual -0.0\n",
      "Heating 0.0\n",
      "Electrical 0.0\n",
      "MoSold 0.0\n",
      "LandSlope 0.0\n",
      "Functional 0.0\n",
      "LotConfig 0.0\n",
      "YrSold -0.0\n",
      "MasVnrArea -0.0\n",
      "BsmtCond 0.0\n",
      "BsmtFinType2 -0.0\n",
      "MiscVal 0.0\n",
      "Remodeled -0.0\n",
      "BsmtExposure 0.0\n",
      "BldgType -0.0\n",
      "OtherRoomsAbvGrd 0.0\n",
      "RoofMatl -0.0\n",
      "MasVnrType -0.0\n",
      "LotShape -0.0\n",
      "KitchenQual 0.0\n",
      "LandContour 0.0\n",
      "LowQualFinSF 0.0\n",
      "BsmtQual 0.0\n",
      "Condition2 0.0\n",
      "SaleType -0.0\n",
      "KitchenAbvGr 0.0\n",
      "PoolArea 0.0\n",
      "--------------------\n"
     ]
    }
   ],
   "source": [
    "selected_rows = [1444, 1397]\n",
    "selected_df = X_train.iloc[selected_rows,:].values\n",
    "prediction, bias, contributions = ti.predict(rf_saturated, selected_df)\n",
    "\n",
    "for i in range(len(selected_rows)):\n",
    "    print(\"Row\", selected_rows[i])\n",
    "    print(\"Prediction:\", prediction[i][0])\n",
    "    print(\"Actual Value:\", y_train[selected_rows[i]])\n",
    "    print(\"Bias (trainset mean)\", bias[i])\n",
    "    print(\"Feature contributions:\")\n",
    "    for c, feature in sorted(zip(contributions[i], \n",
    "                                 X_train.columns), \n",
    "                             key=lambda x: -abs(x[0])):\n",
    "        print(feature, round(c, 2))\n",
    "    print(\"-\"*20)"
   ]
  },
  {
   "cell_type": "code",
   "execution_count": 447,
   "metadata": {},
   "outputs": [],
   "source": [
    "prediction1, bias1, contributions1 = ti.predict(rf_saturated, np.array([selected_df[0]]), joint_contribution=True)\n",
    "prediction2, bias2, contributions2 = ti.predict(rf_saturated, np.array([selected_df[1]]), joint_contribution=True)"
   ]
  },
  {
   "cell_type": "code",
   "execution_count": 448,
   "metadata": {},
   "outputs": [],
   "source": [
    "aggregated_contributions1 = utils.aggregated_contribution(contributions1)\n",
    "aggregated_contributions2 = utils.aggregated_contribution(contributions2)"
   ]
  },
  {
   "cell_type": "code",
   "execution_count": 449,
   "metadata": {},
   "outputs": [
    {
     "name": "stdout",
     "output_type": "stream",
     "text": [
      "0.7016204846851974\n",
      "0.7016204846851988\n"
     ]
    }
   ],
   "source": [
    "print (np.sum(list(aggregated_contributions1.values())) - \n",
    "       np.sum(list(aggregated_contributions2.values())))\n",
    "print (np.mean(prediction1) - np.mean(prediction2))"
   ]
  },
  {
   "cell_type": "code",
   "execution_count": 450,
   "metadata": {},
   "outputs": [
    {
     "name": "stdout",
     "output_type": "stream",
     "text": [
      "['YearBuilt'] [0.01775403]\n",
      "['Neighborhood', 'OverallQual'] [0.00981704]\n",
      "['YearBuilt', 'GrLivArea'] [0.00894106]\n",
      "['Neighborhood', 'CentralAir', 'GrLivArea'] [0.00833738]\n",
      "['Neighborhood', 'GrLivArea'] [0.00773907]\n",
      "['Neighborhood', 'OverallQual', '1stFlrSF'] [0.00721883]\n",
      "['CentralAir', 'GrLivArea'] [0.00659343]\n",
      "['YearBuilt', 'CentralAir', 'GrLivArea'] [0.00467642]\n",
      "['Neighborhood', 'OverallQual', 'TotalBsmtSF'] [0.00431424]\n",
      "['TotalBsmtSF', 'CentralAir', 'GrLivArea'] [0.00417119]\n"
     ]
    }
   ],
   "source": [
    "res = []\n",
    "for k in set(aggregated_contributions1.keys()).union(\n",
    "              set(aggregated_contributions2.keys())):\n",
    "    res.append(([X_train.columns[index] for index in k] , \n",
    "               aggregated_contributions1.get(k, 0) - aggregated_contributions2.get(k, 0)))   \n",
    "         \n",
    "for lst, v in (sorted(res, key=lambda x:-abs(x[1])))[:10]:\n",
    "    print (lst, v)"
   ]
  },
  {
   "cell_type": "code",
   "execution_count": 45,
   "metadata": {
    "scrolled": false
   },
   "outputs": [
    {
     "name": "stdout",
     "output_type": "stream",
     "text": [
      "Row 788\n",
      "Prediction: 11.803286276379433\n",
      "Actual Value: 11.849404844423075\n",
      "Bias (trainset mean) 12.024077228081843\n",
      "Feature contributions:\n",
      "Neighborhood -0.14\n",
      "GrLivArea -0.11\n",
      "GarageArea 0.04\n",
      "GarageFinish -0.02\n",
      "GarageCars 0.02\n",
      "FireplaceQu -0.02\n",
      "1stFlrSF -0.02\n",
      "BsmtFinType1 0.02\n",
      "Fireplaces -0.02\n",
      "TotalBath 0.01\n",
      "OverallQual 0.01\n",
      "YearRemodAdd 0.01\n",
      "GarageYrBlt -0.01\n",
      "TotalBsmtSF 0.01\n",
      "CentralAir 0.01\n",
      "LotFrontage -0.01\n",
      "2ndFlrSF -0.01\n",
      "GarageType -0.01\n",
      "YearBuilt -0.01\n",
      "MSZoning -0.0\n",
      "LotArea -0.0\n",
      "BsmtQual 0.0\n",
      "Foundation -0.0\n",
      "GarageQual 0.0\n",
      "MasVnrArea 0.0\n",
      "TotalPorchAreasSF -0.0\n",
      "BedroomAbvGr -0.0\n",
      "MSSubClass -0.0\n",
      "GarageCond 0.0\n",
      "BsmtExposure 0.0\n",
      "SaleCondition 0.0\n",
      "MasVnrType 0.0\n",
      "ExterQual -0.0\n",
      "PavedDrive 0.0\n",
      "MoSold 0.0\n",
      "KitchenQual -0.0\n",
      "OverallCond 0.0\n",
      "HeatingQC -0.0\n",
      "HouseStyle 0.0\n",
      "Electrical 0.0\n",
      "BsmtCond 0.0\n",
      "OtherRoomsAbvGrd 0.0\n",
      "Exterior2nd 0.0\n",
      "Fence -0.0\n",
      "Functional 0.0\n",
      "YrSold -0.0\n",
      "LotShape -0.0\n",
      "Exterior1st 0.0\n",
      "SaleType 0.0\n",
      "ExterCond 0.0\n",
      "LotConfig -0.0\n",
      "MiscVal 0.0\n",
      "Condition1 0.0\n",
      "LandContour 0.0\n",
      "Condition2 0.0\n",
      "BldgType 0.0\n",
      "KitchenAbvGr 0.0\n",
      "Alley -0.0\n",
      "LowQualFinSF 0.0\n",
      "RoofStyle 0.0\n",
      "Heating 0.0\n",
      "Remodeled 0.0\n",
      "LandSlope 0.0\n",
      "RoofMatl -0.0\n",
      "BsmtFinType2 0.0\n",
      "PoolArea -0.0\n",
      "--------------------\n",
      "Row 1444\n",
      "Prediction: 11.732024221692335\n",
      "Actual Value: 11.732069026983154\n",
      "Bias (trainset mean) 12.024077228081843\n",
      "Feature contributions:\n",
      "GrLivArea -0.12\n",
      "Neighborhood -0.04\n",
      "1stFlrSF -0.03\n",
      "GarageCars -0.03\n",
      "TotalBath -0.02\n",
      "GarageArea -0.02\n",
      "GarageFinish -0.02\n",
      "TotalBsmtSF -0.01\n",
      "FireplaceQu -0.01\n",
      "Fireplaces -0.01\n",
      "GarageYrBlt -0.01\n",
      "YearRemodAdd 0.01\n",
      "BsmtFinType1 0.01\n",
      "MSSubClass 0.01\n",
      "CentralAir 0.01\n",
      "2ndFlrSF -0.01\n",
      "OverallQual 0.01\n",
      "LotFrontage 0.01\n",
      "OverallCond 0.01\n",
      "YearBuilt -0.01\n",
      "GarageQual 0.01\n",
      "GarageCond 0.0\n",
      "SaleCondition 0.0\n",
      "LotArea -0.0\n",
      "Foundation -0.0\n",
      "MoSold 0.0\n",
      "TotalPorchAreasSF 0.0\n",
      "MSZoning 0.0\n",
      "HouseStyle -0.0\n",
      "BsmtExposure 0.0\n",
      "BedroomAbvGr -0.0\n",
      "ExterQual -0.0\n",
      "PavedDrive 0.0\n",
      "BsmtCond 0.0\n",
      "HeatingQC -0.0\n",
      "Exterior2nd 0.0\n",
      "MasVnrArea -0.0\n",
      "OtherRoomsAbvGrd -0.0\n",
      "BsmtFinType2 0.0\n",
      "Remodeled -0.0\n",
      "KitchenQual -0.0\n",
      "YrSold 0.0\n",
      "RoofStyle -0.0\n",
      "LotConfig -0.0\n",
      "GarageType 0.0\n",
      "Condition1 0.0\n",
      "BsmtQual 0.0\n",
      "SaleType 0.0\n",
      "Fence 0.0\n",
      "Electrical 0.0\n",
      "MasVnrType -0.0\n",
      "BldgType 0.0\n",
      "ExterCond -0.0\n",
      "LotShape -0.0\n",
      "LandContour 0.0\n",
      "Condition2 0.0\n",
      "Functional 0.0\n",
      "Heating 0.0\n",
      "LowQualFinSF 0.0\n",
      "Alley -0.0\n",
      "MiscVal 0.0\n",
      "Exterior1st -0.0\n",
      "KitchenAbvGr 0.0\n",
      "LandSlope 0.0\n",
      "RoofMatl -0.0\n",
      "PoolArea -0.0\n",
      "--------------------\n"
     ]
    }
   ],
   "source": [
    "# #print_all(pred_diff.sort_values('difference').agg({'mean', 'median'}))\n",
    "# #print_all(pred_diff.sort_values('difference'))\n",
    "\n",
    "# selected_rows2 = [788,1444]\n",
    "# selected_df2 = X_train.iloc[selected_rows2,:].values\n",
    "# prediction4, bias4, contributions4 = ti.predict(rf_saturated, selected_df2)\n",
    "\n",
    "# for i in range(len(selected_rows2)):\n",
    "#     print(\"Row\", selected_rows2[i])\n",
    "#     print(\"Prediction:\", prediction4[i][0])\n",
    "#     print(\"Actual Value:\", y_train[selected_rows2[i]])\n",
    "#     print(\"Bias (trainset mean)\", bias[i])\n",
    "#     print(\"Feature contributions:\")\n",
    "#     for c, feature in sorted(zip(contributions4[i], \n",
    "#                                  X_train.columns), \n",
    "#                              key=lambda x: -abs(x[0])):\n",
    "#         print(feature, round(c, 2))\n",
    "#     print(\"-\"*20)"
   ]
  },
  {
   "cell_type": "code",
   "execution_count": 53,
   "metadata": {},
   "outputs": [
    {
     "name": "stdout",
     "output_type": "stream",
     "text": [
      "133690.9773312511\n",
      "140001.00000000017\n",
      "166721.03208914047\n"
     ]
    }
   ],
   "source": [
    "print(np.exp(11.803286276379433))\n",
    "print(np.exp(11.849404844423075))\n",
    "print(np.exp(12.024077228081843))"
   ]
  },
  {
   "cell_type": "markdown",
   "metadata": {},
   "source": [
    "### Investigating multicollinearity and feature dependence"
   ]
  },
  {
   "cell_type": "markdown",
   "metadata": {},
   "source": [
    "#### Multicollinearity\n",
    "\n",
    "Multicollinearity is calculated using Spearman's rank-order correlation, which involves converting two predictor features to rank values and then running a standard Pearson's correlation on those ranked variables. The key advantage of using Spearman's is that it is nonparametric and does not assume a linear relationship between features ([T. Parr, et. al (2018)](https://explained.ai/rf-importance/))."
   ]
  },
  {
   "cell_type": "markdown",
   "metadata": {},
   "source": [
    "Investigating multicollinearity:"
   ]
  },
  {
   "cell_type": "code",
   "execution_count": 46,
   "metadata": {},
   "outputs": [
    {
     "data": {
      "text/html": [
       "<div>\n",
       "<style scoped>\n",
       "    .dataframe tbody tr th:only-of-type {\n",
       "        vertical-align: middle;\n",
       "    }\n",
       "\n",
       "    .dataframe tbody tr th {\n",
       "        vertical-align: top;\n",
       "    }\n",
       "\n",
       "    .dataframe thead th {\n",
       "        text-align: right;\n",
       "    }\n",
       "</style>\n",
       "<table border=\"1\" class=\"dataframe\">\n",
       "  <thead>\n",
       "    <tr style=\"text-align: right;\">\n",
       "      <th></th>\n",
       "      <th>MSSubClass</th>\n",
       "      <th>MSZoning</th>\n",
       "      <th>LotFrontage</th>\n",
       "      <th>LotArea</th>\n",
       "      <th>Alley</th>\n",
       "      <th>LotShape</th>\n",
       "      <th>LandContour</th>\n",
       "      <th>LotConfig</th>\n",
       "      <th>LandSlope</th>\n",
       "      <th>Neighborhood</th>\n",
       "      <th>...</th>\n",
       "      <th>Fence</th>\n",
       "      <th>MiscVal</th>\n",
       "      <th>MoSold</th>\n",
       "      <th>YrSold</th>\n",
       "      <th>SaleType</th>\n",
       "      <th>SaleCondition</th>\n",
       "      <th>Remodeled</th>\n",
       "      <th>TotalPorchAreasSF</th>\n",
       "      <th>TotalBath</th>\n",
       "      <th>OtherRoomsAbvGrd</th>\n",
       "    </tr>\n",
       "  </thead>\n",
       "  <tbody>\n",
       "    <tr>\n",
       "      <td>MSSubClass</td>\n",
       "      <td>1.0000</td>\n",
       "      <td>0.3550</td>\n",
       "      <td>0.3052</td>\n",
       "      <td>0.2592</td>\n",
       "      <td>0.1158</td>\n",
       "      <td>0.2721</td>\n",
       "      <td>0.1152</td>\n",
       "      <td>0.0800</td>\n",
       "      <td>-0.0175</td>\n",
       "      <td>0.5348</td>\n",
       "      <td>...</td>\n",
       "      <td>0.0995</td>\n",
       "      <td>-0.0496</td>\n",
       "      <td>0.0385</td>\n",
       "      <td>-0.0137</td>\n",
       "      <td>0.1840</td>\n",
       "      <td>0.2062</td>\n",
       "      <td>-0.2386</td>\n",
       "      <td>0.2766</td>\n",
       "      <td>-0.4236</td>\n",
       "      <td>-0.0814</td>\n",
       "    </tr>\n",
       "    <tr>\n",
       "      <td>MSZoning</td>\n",
       "      <td>0.3550</td>\n",
       "      <td>1.0000</td>\n",
       "      <td>0.3037</td>\n",
       "      <td>0.2677</td>\n",
       "      <td>-0.1460</td>\n",
       "      <td>0.1873</td>\n",
       "      <td>0.0654</td>\n",
       "      <td>0.0594</td>\n",
       "      <td>-0.0089</td>\n",
       "      <td>0.5710</td>\n",
       "      <td>...</td>\n",
       "      <td>0.0584</td>\n",
       "      <td>-0.0232</td>\n",
       "      <td>-0.0028</td>\n",
       "      <td>0.0144</td>\n",
       "      <td>0.1828</td>\n",
       "      <td>0.1733</td>\n",
       "      <td>-0.2097</td>\n",
       "      <td>0.0743</td>\n",
       "      <td>-0.2997</td>\n",
       "      <td>-0.0050</td>\n",
       "    </tr>\n",
       "    <tr>\n",
       "      <td>LotFrontage</td>\n",
       "      <td>0.3052</td>\n",
       "      <td>0.3037</td>\n",
       "      <td>1.0000</td>\n",
       "      <td>0.6094</td>\n",
       "      <td>0.1928</td>\n",
       "      <td>0.1614</td>\n",
       "      <td>0.0763</td>\n",
       "      <td>0.1274</td>\n",
       "      <td>0.0578</td>\n",
       "      <td>0.3314</td>\n",
       "      <td>...</td>\n",
       "      <td>-0.0476</td>\n",
       "      <td>0.0292</td>\n",
       "      <td>0.0163</td>\n",
       "      <td>0.0021</td>\n",
       "      <td>0.0857</td>\n",
       "      <td>0.0973</td>\n",
       "      <td>-0.1107</td>\n",
       "      <td>0.1684</td>\n",
       "      <td>-0.1732</td>\n",
       "      <td>-0.0897</td>\n",
       "    </tr>\n",
       "    <tr>\n",
       "      <td>LotArea</td>\n",
       "      <td>0.2592</td>\n",
       "      <td>0.2677</td>\n",
       "      <td>0.6094</td>\n",
       "      <td>1.0000</td>\n",
       "      <td>0.1618</td>\n",
       "      <td>0.3414</td>\n",
       "      <td>0.1375</td>\n",
       "      <td>0.2192</td>\n",
       "      <td>0.1169</td>\n",
       "      <td>0.3043</td>\n",
       "      <td>...</td>\n",
       "      <td>0.0363</td>\n",
       "      <td>0.0593</td>\n",
       "      <td>0.0064</td>\n",
       "      <td>-0.0275</td>\n",
       "      <td>0.0696</td>\n",
       "      <td>0.0813</td>\n",
       "      <td>-0.0151</td>\n",
       "      <td>0.2466</td>\n",
       "      <td>-0.1539</td>\n",
       "      <td>-0.0700</td>\n",
       "    </tr>\n",
       "    <tr>\n",
       "      <td>Alley</td>\n",
       "      <td>0.1158</td>\n",
       "      <td>-0.1460</td>\n",
       "      <td>0.1928</td>\n",
       "      <td>0.1618</td>\n",
       "      <td>1.0000</td>\n",
       "      <td>0.0477</td>\n",
       "      <td>0.0597</td>\n",
       "      <td>0.0470</td>\n",
       "      <td>0.0038</td>\n",
       "      <td>-0.0254</td>\n",
       "      <td>...</td>\n",
       "      <td>-0.0409</td>\n",
       "      <td>0.0327</td>\n",
       "      <td>0.0214</td>\n",
       "      <td>0.0002</td>\n",
       "      <td>-0.0466</td>\n",
       "      <td>-0.0116</td>\n",
       "      <td>-0.0536</td>\n",
       "      <td>0.0110</td>\n",
       "      <td>0.0471</td>\n",
       "      <td>-0.0953</td>\n",
       "    </tr>\n",
       "    <tr>\n",
       "      <td>...</td>\n",
       "      <td>...</td>\n",
       "      <td>...</td>\n",
       "      <td>...</td>\n",
       "      <td>...</td>\n",
       "      <td>...</td>\n",
       "      <td>...</td>\n",
       "      <td>...</td>\n",
       "      <td>...</td>\n",
       "      <td>...</td>\n",
       "      <td>...</td>\n",
       "      <td>...</td>\n",
       "      <td>...</td>\n",
       "      <td>...</td>\n",
       "      <td>...</td>\n",
       "      <td>...</td>\n",
       "      <td>...</td>\n",
       "      <td>...</td>\n",
       "      <td>...</td>\n",
       "      <td>...</td>\n",
       "      <td>...</td>\n",
       "      <td>...</td>\n",
       "    </tr>\n",
       "    <tr>\n",
       "      <td>SaleCondition</td>\n",
       "      <td>0.2062</td>\n",
       "      <td>0.1733</td>\n",
       "      <td>0.0973</td>\n",
       "      <td>0.0813</td>\n",
       "      <td>-0.0116</td>\n",
       "      <td>0.0591</td>\n",
       "      <td>0.0771</td>\n",
       "      <td>-0.0430</td>\n",
       "      <td>-0.0589</td>\n",
       "      <td>0.2850</td>\n",
       "      <td>...</td>\n",
       "      <td>0.1542</td>\n",
       "      <td>-0.0213</td>\n",
       "      <td>0.0584</td>\n",
       "      <td>-0.0505</td>\n",
       "      <td>0.6730</td>\n",
       "      <td>1.0000</td>\n",
       "      <td>-0.0074</td>\n",
       "      <td>0.0706</td>\n",
       "      <td>-0.1588</td>\n",
       "      <td>-0.0592</td>\n",
       "    </tr>\n",
       "    <tr>\n",
       "      <td>Remodeled</td>\n",
       "      <td>-0.2386</td>\n",
       "      <td>-0.2097</td>\n",
       "      <td>-0.1107</td>\n",
       "      <td>-0.0151</td>\n",
       "      <td>-0.0536</td>\n",
       "      <td>-0.0724</td>\n",
       "      <td>-0.0543</td>\n",
       "      <td>-0.0193</td>\n",
       "      <td>0.0354</td>\n",
       "      <td>-0.1974</td>\n",
       "      <td>...</td>\n",
       "      <td>-0.0767</td>\n",
       "      <td>0.0173</td>\n",
       "      <td>-0.0071</td>\n",
       "      <td>0.0218</td>\n",
       "      <td>-0.0046</td>\n",
       "      <td>-0.0074</td>\n",
       "      <td>1.0000</td>\n",
       "      <td>0.0497</td>\n",
       "      <td>0.1406</td>\n",
       "      <td>-0.0275</td>\n",
       "    </tr>\n",
       "    <tr>\n",
       "      <td>TotalPorchAreasSF</td>\n",
       "      <td>0.2766</td>\n",
       "      <td>0.0743</td>\n",
       "      <td>0.1684</td>\n",
       "      <td>0.2466</td>\n",
       "      <td>0.0110</td>\n",
       "      <td>0.1605</td>\n",
       "      <td>0.0511</td>\n",
       "      <td>0.0758</td>\n",
       "      <td>0.0611</td>\n",
       "      <td>0.2251</td>\n",
       "      <td>...</td>\n",
       "      <td>-0.0129</td>\n",
       "      <td>0.0207</td>\n",
       "      <td>0.0480</td>\n",
       "      <td>-0.0033</td>\n",
       "      <td>0.0809</td>\n",
       "      <td>0.0706</td>\n",
       "      <td>0.0497</td>\n",
       "      <td>1.0000</td>\n",
       "      <td>-0.1834</td>\n",
       "      <td>-0.0034</td>\n",
       "    </tr>\n",
       "    <tr>\n",
       "      <td>TotalBath</td>\n",
       "      <td>-0.4236</td>\n",
       "      <td>-0.2997</td>\n",
       "      <td>-0.1732</td>\n",
       "      <td>-0.1539</td>\n",
       "      <td>0.0471</td>\n",
       "      <td>-0.1414</td>\n",
       "      <td>-0.0967</td>\n",
       "      <td>-0.0423</td>\n",
       "      <td>0.0063</td>\n",
       "      <td>-0.3914</td>\n",
       "      <td>...</td>\n",
       "      <td>-0.1003</td>\n",
       "      <td>0.0439</td>\n",
       "      <td>-0.0043</td>\n",
       "      <td>-0.0249</td>\n",
       "      <td>-0.1513</td>\n",
       "      <td>-0.1588</td>\n",
       "      <td>0.1406</td>\n",
       "      <td>-0.1834</td>\n",
       "      <td>1.0000</td>\n",
       "      <td>0.0344</td>\n",
       "    </tr>\n",
       "    <tr>\n",
       "      <td>OtherRoomsAbvGrd</td>\n",
       "      <td>-0.0814</td>\n",
       "      <td>-0.0050</td>\n",
       "      <td>-0.0897</td>\n",
       "      <td>-0.0700</td>\n",
       "      <td>-0.0953</td>\n",
       "      <td>-0.0228</td>\n",
       "      <td>0.0034</td>\n",
       "      <td>-0.0803</td>\n",
       "      <td>0.0508</td>\n",
       "      <td>-0.0088</td>\n",
       "      <td>...</td>\n",
       "      <td>0.0584</td>\n",
       "      <td>0.0104</td>\n",
       "      <td>-0.0045</td>\n",
       "      <td>0.0219</td>\n",
       "      <td>0.0107</td>\n",
       "      <td>-0.0592</td>\n",
       "      <td>-0.0275</td>\n",
       "      <td>-0.0034</td>\n",
       "      <td>0.0344</td>\n",
       "      <td>1.0000</td>\n",
       "    </tr>\n",
       "  </tbody>\n",
       "</table>\n",
       "<p>66 rows × 66 columns</p>\n",
       "</div>"
      ],
      "text/plain": [
       "                   MSSubClass  MSZoning  LotFrontage  LotArea   Alley  \\\n",
       "MSSubClass             1.0000    0.3550       0.3052   0.2592  0.1158   \n",
       "MSZoning               0.3550    1.0000       0.3037   0.2677 -0.1460   \n",
       "LotFrontage            0.3052    0.3037       1.0000   0.6094  0.1928   \n",
       "LotArea                0.2592    0.2677       0.6094   1.0000  0.1618   \n",
       "Alley                  0.1158   -0.1460       0.1928   0.1618  1.0000   \n",
       "...                       ...       ...          ...      ...     ...   \n",
       "SaleCondition          0.2062    0.1733       0.0973   0.0813 -0.0116   \n",
       "Remodeled             -0.2386   -0.2097      -0.1107  -0.0151 -0.0536   \n",
       "TotalPorchAreasSF      0.2766    0.0743       0.1684   0.2466  0.0110   \n",
       "TotalBath             -0.4236   -0.2997      -0.1732  -0.1539  0.0471   \n",
       "OtherRoomsAbvGrd      -0.0814   -0.0050      -0.0897  -0.0700 -0.0953   \n",
       "\n",
       "                   LotShape  LandContour  LotConfig  LandSlope  Neighborhood  \\\n",
       "MSSubClass           0.2721       0.1152     0.0800    -0.0175        0.5348   \n",
       "MSZoning             0.1873       0.0654     0.0594    -0.0089        0.5710   \n",
       "LotFrontage          0.1614       0.0763     0.1274     0.0578        0.3314   \n",
       "LotArea              0.3414       0.1375     0.2192     0.1169        0.3043   \n",
       "Alley                0.0477       0.0597     0.0470     0.0038       -0.0254   \n",
       "...                     ...          ...        ...        ...           ...   \n",
       "SaleCondition        0.0591       0.0771    -0.0430    -0.0589        0.2850   \n",
       "Remodeled           -0.0724      -0.0543    -0.0193     0.0354       -0.1974   \n",
       "TotalPorchAreasSF    0.1605       0.0511     0.0758     0.0611        0.2251   \n",
       "TotalBath           -0.1414      -0.0967    -0.0423     0.0063       -0.3914   \n",
       "OtherRoomsAbvGrd    -0.0228       0.0034    -0.0803     0.0508       -0.0088   \n",
       "\n",
       "                   ...   Fence  MiscVal  MoSold  YrSold  SaleType  \\\n",
       "MSSubClass         ...  0.0995  -0.0496  0.0385 -0.0137    0.1840   \n",
       "MSZoning           ...  0.0584  -0.0232 -0.0028  0.0144    0.1828   \n",
       "LotFrontage        ... -0.0476   0.0292  0.0163  0.0021    0.0857   \n",
       "LotArea            ...  0.0363   0.0593  0.0064 -0.0275    0.0696   \n",
       "Alley              ... -0.0409   0.0327  0.0214  0.0002   -0.0466   \n",
       "...                ...     ...      ...     ...     ...       ...   \n",
       "SaleCondition      ...  0.1542  -0.0213  0.0584 -0.0505    0.6730   \n",
       "Remodeled          ... -0.0767   0.0173 -0.0071  0.0218   -0.0046   \n",
       "TotalPorchAreasSF  ... -0.0129   0.0207  0.0480 -0.0033    0.0809   \n",
       "TotalBath          ... -0.1003   0.0439 -0.0043 -0.0249   -0.1513   \n",
       "OtherRoomsAbvGrd   ...  0.0584   0.0104 -0.0045  0.0219    0.0107   \n",
       "\n",
       "                   SaleCondition  Remodeled  TotalPorchAreasSF  TotalBath  \\\n",
       "MSSubClass                0.2062    -0.2386             0.2766    -0.4236   \n",
       "MSZoning                  0.1733    -0.2097             0.0743    -0.2997   \n",
       "LotFrontage               0.0973    -0.1107             0.1684    -0.1732   \n",
       "LotArea                   0.0813    -0.0151             0.2466    -0.1539   \n",
       "Alley                    -0.0116    -0.0536             0.0110     0.0471   \n",
       "...                          ...        ...                ...        ...   \n",
       "SaleCondition             1.0000    -0.0074             0.0706    -0.1588   \n",
       "Remodeled                -0.0074     1.0000             0.0497     0.1406   \n",
       "TotalPorchAreasSF         0.0706     0.0497             1.0000    -0.1834   \n",
       "TotalBath                -0.1588     0.1406            -0.1834     1.0000   \n",
       "OtherRoomsAbvGrd         -0.0592    -0.0275            -0.0034     0.0344   \n",
       "\n",
       "                   OtherRoomsAbvGrd  \n",
       "MSSubClass                  -0.0814  \n",
       "MSZoning                    -0.0050  \n",
       "LotFrontage                 -0.0897  \n",
       "LotArea                     -0.0700  \n",
       "Alley                       -0.0953  \n",
       "...                             ...  \n",
       "SaleCondition               -0.0592  \n",
       "Remodeled                   -0.0275  \n",
       "TotalPorchAreasSF           -0.0034  \n",
       "TotalBath                    0.0344  \n",
       "OtherRoomsAbvGrd             1.0000  \n",
       "\n",
       "[66 rows x 66 columns]"
      ]
     },
     "execution_count": 46,
     "metadata": {},
     "output_type": "execute_result"
    }
   ],
   "source": [
    "feature_corr_matrix(X_train)"
   ]
  },
  {
   "cell_type": "markdown",
   "metadata": {},
   "source": [
    "#### Feature dependence\n",
    "\n",
    "Feature dependence identifies a predictor feature that is dependent on other predictor features by training a model to use that predictor feature as the new target feature and use remaining features as predictors. OOB estimates (R^2 prediction error) are used to indicate how dependent the feature is on other features. The higher the score, the greater the dependence; this tells us which features have predictive power for the new target feature."
   ]
  },
  {
   "cell_type": "markdown",
   "metadata": {},
   "source": [
    "Investing feature dependence from `rfpimp`:"
   ]
  },
  {
   "cell_type": "code",
   "execution_count": 48,
   "metadata": {},
   "outputs": [
    {
     "name": "stdout",
     "output_type": "stream",
     "text": [
      "GrLivArea              0.973093\n",
      "2ndFlrSF               0.957733\n",
      "MSSubClass             0.946657\n",
      "YearBuilt               0.93752\n",
      "1stFlrSF               0.913189\n",
      "HouseStyle             0.882532\n",
      "GarageCars             0.881815\n",
      "Exterior2nd            0.876912\n",
      "SaleType               0.875121\n",
      "BldgType               0.874724\n",
      "Exterior1st            0.870135\n",
      "MasVnrType             0.851915\n",
      "GarageArea             0.823678\n",
      "Fireplaces             0.821462\n",
      "GarageYrBlt            0.820004\n",
      "TotalBsmtSF            0.818818\n",
      "SaleCondition          0.789431\n",
      "GarageQual             0.785861\n",
      "Neighborhood            0.77791\n",
      "MSZoning               0.762423\n",
      "YearRemodAdd            0.72255\n",
      "FireplaceQu            0.697171\n",
      "Foundation             0.656649\n",
      "Remodeled              0.627318\n",
      "KitchenAbvGr           0.617287\n",
      "MasVnrArea             0.615829\n",
      "GarageCond             0.612853\n",
      "GarageType             0.606212\n",
      "GarageFinish           0.565529\n",
      "LotArea                0.531672\n",
      "Alley                  0.516489\n",
      "OverallQual            0.493484\n",
      "ExterQual              0.484628\n",
      "LotFrontage            0.442558\n",
      "BsmtQual               0.438789\n",
      "HeatingQC              0.437669\n",
      "CentralAir             0.411121\n",
      "LandSlope               0.38708\n",
      "TotalBath              0.386197\n",
      "BedroomAbvGr           0.375248\n",
      "BsmtExposure           0.353696\n",
      "BsmtFinType1           0.343835\n",
      "LotShape               0.342857\n",
      "KitchenQual            0.341988\n",
      "OverallCond            0.310294\n",
      "Heating                0.297271\n",
      "PavedDrive             0.248992\n",
      "LowQualFinSF           0.220732\n",
      "OtherRoomsAbvGrd       0.219261\n",
      "BsmtCond               0.201719\n",
      "Electrical             0.197113\n",
      "LotConfig              0.189262\n",
      "TotalPorchAreasSF      0.166413\n",
      "RoofStyle              0.147073\n",
      "LandContour            0.116181\n",
      "BsmtFinType2          0.0930083\n",
      "Fence                 0.0923392\n",
      "Condition1            0.0588629\n",
      "ExterCond             0.0474241\n",
      "YrSold                0.0339102\n",
      "MoSold               0.00944301\n",
      "Functional          -0.00390221\n",
      "Condition2            -0.151739\n",
      "RoofMatl              -0.216603\n",
      "PoolArea              -0.240823\n",
      "MiscVal               -0.307245\n",
      "Name: Dependence, dtype: object\n"
     ]
    }
   ],
   "source": [
    "feat_dep = feature_dependence_matrix(X_train, sort_by_dependence=True)\n",
    "print_all(feat_dep['Dependence'].sort_values(ascending=False))"
   ]
  },
  {
   "cell_type": "markdown",
   "metadata": {},
   "source": [
    "## Make predictions"
   ]
  },
  {
   "cell_type": "code",
   "execution_count": 49,
   "metadata": {},
   "outputs": [],
   "source": [
    "y_predict = np.expm1(grid_search.predict(X_test.drop(columns = 'Id')))"
   ]
  },
  {
   "cell_type": "code",
   "execution_count": 50,
   "metadata": {},
   "outputs": [
    {
     "data": {
      "text/html": [
       "<div>\n",
       "<style scoped>\n",
       "    .dataframe tbody tr th:only-of-type {\n",
       "        vertical-align: middle;\n",
       "    }\n",
       "\n",
       "    .dataframe tbody tr th {\n",
       "        vertical-align: top;\n",
       "    }\n",
       "\n",
       "    .dataframe thead th {\n",
       "        text-align: right;\n",
       "    }\n",
       "</style>\n",
       "<table border=\"1\" class=\"dataframe\">\n",
       "  <thead>\n",
       "    <tr style=\"text-align: right;\">\n",
       "      <th></th>\n",
       "      <th>Id</th>\n",
       "      <th>SalePrice</th>\n",
       "    </tr>\n",
       "  </thead>\n",
       "  <tbody>\n",
       "    <tr>\n",
       "      <td>0</td>\n",
       "      <td>1461</td>\n",
       "      <td>123134.975984</td>\n",
       "    </tr>\n",
       "    <tr>\n",
       "      <td>1</td>\n",
       "      <td>1462</td>\n",
       "      <td>152165.233571</td>\n",
       "    </tr>\n",
       "    <tr>\n",
       "      <td>2</td>\n",
       "      <td>1463</td>\n",
       "      <td>185473.060568</td>\n",
       "    </tr>\n",
       "    <tr>\n",
       "      <td>3</td>\n",
       "      <td>1464</td>\n",
       "      <td>189380.198575</td>\n",
       "    </tr>\n",
       "    <tr>\n",
       "      <td>4</td>\n",
       "      <td>1465</td>\n",
       "      <td>194377.441186</td>\n",
       "    </tr>\n",
       "    <tr>\n",
       "      <td>...</td>\n",
       "      <td>...</td>\n",
       "      <td>...</td>\n",
       "    </tr>\n",
       "    <tr>\n",
       "      <td>1454</td>\n",
       "      <td>2915</td>\n",
       "      <td>85149.904691</td>\n",
       "    </tr>\n",
       "    <tr>\n",
       "      <td>1455</td>\n",
       "      <td>2916</td>\n",
       "      <td>84756.813158</td>\n",
       "    </tr>\n",
       "    <tr>\n",
       "      <td>1456</td>\n",
       "      <td>2917</td>\n",
       "      <td>158453.714210</td>\n",
       "    </tr>\n",
       "    <tr>\n",
       "      <td>1457</td>\n",
       "      <td>2918</td>\n",
       "      <td>113958.571440</td>\n",
       "    </tr>\n",
       "    <tr>\n",
       "      <td>1458</td>\n",
       "      <td>2919</td>\n",
       "      <td>210368.729173</td>\n",
       "    </tr>\n",
       "  </tbody>\n",
       "</table>\n",
       "<p>1459 rows × 2 columns</p>\n",
       "</div>"
      ],
      "text/plain": [
       "        Id      SalePrice\n",
       "0     1461  123134.975984\n",
       "1     1462  152165.233571\n",
       "2     1463  185473.060568\n",
       "3     1464  189380.198575\n",
       "4     1465  194377.441186\n",
       "...    ...            ...\n",
       "1454  2915   85149.904691\n",
       "1455  2916   84756.813158\n",
       "1456  2917  158453.714210\n",
       "1457  2918  113958.571440\n",
       "1458  2919  210368.729173\n",
       "\n",
       "[1459 rows x 2 columns]"
      ]
     },
     "execution_count": 50,
     "metadata": {},
     "output_type": "execute_result"
    }
   ],
   "source": [
    "price = pd.DataFrame(y_predict, columns=['SalePrice'])\n",
    "\n",
    "results = pd.concat([X_test['Id'], price['SalePrice']], axis=1)\n",
    "results"
   ]
  },
  {
   "cell_type": "markdown",
   "metadata": {},
   "source": [
    "## Submission"
   ]
  },
  {
   "cell_type": "code",
   "execution_count": 51,
   "metadata": {},
   "outputs": [],
   "source": [
    "submission = pd.DataFrame({'Id': X_test['Id'], \n",
    "                           'SalePrice': y_predict})\n",
    "\n",
    "submission.to_csv('../data/interim/submission_rf_final.csv', index=False)"
   ]
  },
  {
   "cell_type": "markdown",
   "metadata": {},
   "source": [
    "## Data visualization"
   ]
  },
  {
   "cell_type": "markdown",
   "metadata": {},
   "source": [
    "### Overall: Feature importance"
   ]
  },
  {
   "cell_type": "code",
   "execution_count": 264,
   "metadata": {},
   "outputs": [
    {
     "data": {
      "image/png": "[encoded data removed]",
      "text/plain": [
       "<Figure size 720x720 with 1 Axes>"
      ]
     },
     "metadata": {},
     "output_type": "display_data"
    }
   ],
   "source": [
    "sk_feat_imp = feat_df(X_train.columns, grid_search.best_estimator_.feature_importances_)\n",
    "plot_imp(sk_feat_imp[:15], 'Feature importance by mean decrease in purity')\n",
    "sns.set_style(\"whitegrid\")\n",
    "# plt.savefig('../src/visualization/feat_imp_purity.png', dpi=300)"
   ]
  },
  {
   "cell_type": "code",
   "execution_count": 265,
   "metadata": {},
   "outputs": [
    {
     "data": {
      "image/png": "[encoded data removed]",
      "text/plain": [
       "<Figure size 720x720 with 1 Axes>"
      ]
     },
     "metadata": {},
     "output_type": "display_data"
    }
   ],
   "source": [
    "plot_imp(rfpimp_perm[:15], 'Feature importance by permutation importance')\n",
    "sns.set_style(\"whitegrid\")\n",
    "# plt.savefig('../src/visualization/feat_imp_perm.png', dpi=300)"
   ]
  },
  {
   "cell_type": "code",
   "execution_count": 266,
   "metadata": {},
   "outputs": [
    {
     "data": {
      "image/png": "[encoded data removed]",
      "text/plain": [
       "<Figure size 720x720 with 1 Axes>"
      ]
     },
     "metadata": {},
     "output_type": "display_data"
    }
   ],
   "source": [
    "plot_imp(drop_col_feat.reset_index().sort_values('Importance', ascending = False), 'Feature importance by drop-column importance')\n",
    "sns.set(rc = {'figure.figsize':(20, 20)})\n",
    "sns.set_style(\"whitegrid\")\n",
    "# plt.savefig('../src/visualization/feat_imp_dropcol.png', dpi=300)"
   ]
  },
  {
   "cell_type": "code",
   "execution_count": 501,
   "metadata": {},
   "outputs": [
    {
     "data": {
      "image/png": "[encoded data removed]",
      "text/plain": [
       "<Figure size 1800x1440 with 1 Axes>"
      ]
     },
     "metadata": {},
     "output_type": "display_data"
    }
   ],
   "source": [
    "plot_imp(drop_col_feat.reset_index().sort_values('Importance', ascending = False)[:18], 'Feature importance by drop-column importance: Scores Above 0')\n",
    "sns.set(rc = {'figure.figsize':(25, 20)})\n",
    "sns.set_style(\"whitegrid\")\n",
    "# plt.savefig('../src/visualization/feat_imp_dropcol_pos.png', dpi=300)"
   ]
  },
  {
   "cell_type": "code",
   "execution_count": 268,
   "metadata": {
    "scrolled": true
   },
   "outputs": [
    {
     "data": {
      "image/png": "[encoded data removed]",
      "text/plain": [
       "<Figure size 720x720 with 1 Axes>"
      ]
     },
     "metadata": {},
     "output_type": "display_data"
    }
   ],
   "source": [
    "plot_imp(drop_col_feat.reset_index().sort_values('Importance', ascending = False)[-47:], 'Feature importance by drop-column importance: Scores Below 0')\n",
    "sns.set_style(\"whitegrid\")\n",
    "# plt.savefig('../src/visualization/feat_imp_dropcol_neg.png', dpi=300)"
   ]
  },
  {
   "cell_type": "code",
   "execution_count": 493,
   "metadata": {},
   "outputs": [
    {
     "data": {
      "image/png": "[encoded data removed]",
      "text/plain": [
       "<Figure size 1440x1080 with 1 Axes>"
      ]
     },
     "metadata": {},
     "output_type": "display_data"
    }
   ],
   "source": [
    "plot_imp(drop_col_feat.reset_index().sort_values('Importance', ascending = False)[:10], 'Feature importance by drop-column importance: Top 10')\n",
    "sns.set(rc = {'figure.figsize':(25, 20)})\n",
    "sns.set_style(\"whitegrid\")\n",
    "# plt.savefig('../src/visualization/feat_imp_dropcol_pos_2.png', dpi=300)"
   ]
  },
  {
   "cell_type": "code",
   "execution_count": 504,
   "metadata": {},
   "outputs": [
    {
     "data": {
      "text/html": [
       "<div>\n",
       "<style scoped>\n",
       "    .dataframe tbody tr th:only-of-type {\n",
       "        vertical-align: middle;\n",
       "    }\n",
       "\n",
       "    .dataframe tbody tr th {\n",
       "        vertical-align: top;\n",
       "    }\n",
       "\n",
       "    .dataframe thead th {\n",
       "        text-align: right;\n",
       "    }\n",
       "</style>\n",
       "<table border=\"1\" class=\"dataframe\">\n",
       "  <thead>\n",
       "    <tr style=\"text-align: right;\">\n",
       "      <th></th>\n",
       "      <th>Feature</th>\n",
       "      <th>Importance</th>\n",
       "    </tr>\n",
       "  </thead>\n",
       "  <tbody>\n",
       "    <tr>\n",
       "      <td>0</td>\n",
       "      <td>GrLivArea</td>\n",
       "      <td>0.001925</td>\n",
       "    </tr>\n",
       "    <tr>\n",
       "      <td>1</td>\n",
       "      <td>Neighborhood</td>\n",
       "      <td>0.001399</td>\n",
       "    </tr>\n",
       "    <tr>\n",
       "      <td>2</td>\n",
       "      <td>OverallQual</td>\n",
       "      <td>0.000981</td>\n",
       "    </tr>\n",
       "    <tr>\n",
       "      <td>3</td>\n",
       "      <td>YearRemodAdd</td>\n",
       "      <td>0.000557</td>\n",
       "    </tr>\n",
       "    <tr>\n",
       "      <td>4</td>\n",
       "      <td>LotArea</td>\n",
       "      <td>0.000329</td>\n",
       "    </tr>\n",
       "    <tr>\n",
       "      <td>5</td>\n",
       "      <td>CentralAir</td>\n",
       "      <td>0.000275</td>\n",
       "    </tr>\n",
       "    <tr>\n",
       "      <td>6</td>\n",
       "      <td>TotalBsmtSF</td>\n",
       "      <td>0.000230</td>\n",
       "    </tr>\n",
       "    <tr>\n",
       "      <td>7</td>\n",
       "      <td>MSZoning</td>\n",
       "      <td>0.000222</td>\n",
       "    </tr>\n",
       "    <tr>\n",
       "      <td>8</td>\n",
       "      <td>TotalPorchAreasSF</td>\n",
       "      <td>0.000214</td>\n",
       "    </tr>\n",
       "    <tr>\n",
       "      <td>9</td>\n",
       "      <td>OverallCond</td>\n",
       "      <td>0.000151</td>\n",
       "    </tr>\n",
       "  </tbody>\n",
       "</table>\n",
       "</div>"
      ],
      "text/plain": [
       "             Feature  Importance\n",
       "0          GrLivArea    0.001925\n",
       "1       Neighborhood    0.001399\n",
       "2        OverallQual    0.000981\n",
       "3       YearRemodAdd    0.000557\n",
       "4            LotArea    0.000329\n",
       "5         CentralAir    0.000275\n",
       "6        TotalBsmtSF    0.000230\n",
       "7           MSZoning    0.000222\n",
       "8  TotalPorchAreasSF    0.000214\n",
       "9        OverallCond    0.000151"
      ]
     },
     "execution_count": 504,
     "metadata": {},
     "output_type": "execute_result"
    }
   ],
   "source": [
    "drop_col_feat.reset_index().sort_values('Importance', ascending = False)[:10]"
   ]
  },
  {
   "cell_type": "markdown",
   "metadata": {},
   "source": [
    "### Deep Dive"
   ]
  },
  {
   "cell_type": "markdown",
   "metadata": {},
   "source": [
    "Examine multicollinearity of predictor feature `grlivarea`, which represents \"Above grade (ground) living area square feet\":"
   ]
  },
  {
   "cell_type": "code",
   "execution_count": 269,
   "metadata": {},
   "outputs": [
    {
     "data": {
      "image/png": "[encoded data removed]",
      "text/plain": [
       "<Figure size 720x720 with 2 Axes>"
      ]
     },
     "metadata": {},
     "output_type": "display_data"
    }
   ],
   "source": [
    "# print_all(feature_corr_matrix(X_train)['GrLivArea'].sort_values(ascending=False))\n",
    "grlivarea_corr = feature_corr_matrix(X_train).loc[['GrLivArea','TotalBsmtSF','1stFlrSF','2ndFlrSF','LowQualFinSF','HouseStyle','MSSubClass'], ['GrLivArea','TotalBsmtSF','1stFlrSF','2ndFlrSF','LowQualFinSF','HouseStyle','MSSubClass']]\n",
    "plot_corr_heatmap(grlivarea_corr)\n",
    "# plt.savefig('../src/visualization/grlivarea_corr.png', dpi=300)"
   ]
  },
  {
   "cell_type": "markdown",
   "metadata": {},
   "source": [
    "Examine feature dependence of predictor feature `grlivarea`:"
   ]
  },
  {
   "cell_type": "code",
   "execution_count": 270,
   "metadata": {},
   "outputs": [
    {
     "data": {
      "image/png": "[encoded data removed]",
      "text/plain": [
       "<Figure size 720x720 with 2 Axes>"
      ]
     },
     "metadata": {},
     "output_type": "display_data"
    }
   ],
   "source": [
    "# print_all(feat_dep.loc['GrLivArea'])\n",
    "grlivarea_dep = feat_dep.loc[['GrLivArea','TotalBsmtSF','1stFlrSF','2ndFlrSF','LowQualFinSF','HouseStyle','MSSubClass'], ['Dependence','GrLivArea','TotalBsmtSF','1stFlrSF','2ndFlrSF','LowQualFinSF','HouseStyle','MSSubClass']].reindex()\n",
    "plot_dependence_heatmap(grlivarea_dep)\n",
    "# plt.savefig('../src/visualization/grlivarea_dep.png', dpi=300)"
   ]
  },
  {
   "cell_type": "markdown",
   "metadata": {},
   "source": [
    "Examine multicollinearity of predictor feature `OverallQual`:"
   ]
  },
  {
   "cell_type": "code",
   "execution_count": 440,
   "metadata": {},
   "outputs": [
    {
     "data": {
      "image/png": "[encoded data removed]",
      "text/plain": [
       "<Figure size 720x720 with 1 Axes>"
      ]
     },
     "metadata": {},
     "output_type": "display_data"
    }
   ],
   "source": [
    "pd.set_option('display.max_rows', len(feature_corr_matrix(X_train)['OverallQual']))\n",
    "overallqual_corr = pd.DataFrame(feature_corr_matrix(X_train)['OverallQual'].sort_values(ascending=False))\n",
    "overallqual_corr[1:11]\n",
    "# overallqual_corr.tail(10).sort_values('OverallQual',ascending=True)\n",
    "overallqual_corr_10 = overallqual_dep[2:11].reset_index()\n",
    "overallqual_corr_10.columns = ['Feature', 'Correlation']\n",
    "\n",
    "# Reorder values\n",
    "ordered_qualc = overallqual_corr_10.sort_values(by='Correlation')\n",
    "my_range=range(1,len(ordered_qualc.index)+1)\n",
    " \n",
    "# Lollipop chart\n",
    "plt.title(\"Spearman's Correlation, Overall Quality\", fontsize=20)\n",
    "plt.hlines(y=my_range, xmin=0, xmax=ordered_qualc['Correlation'], color='royalblue')\n",
    "plt.plot(ordered_qualc['Correlation'], my_range, 'o')\n",
    "plt.yticks(my_range, ordered_qualc['Feature'])\n",
    "plt.savefig('../src/visualization/overallqual_corr_final.png', dpi=300)\n",
    "plt.show()"
   ]
  },
  {
   "cell_type": "markdown",
   "metadata": {},
   "source": [
    "Examine feature dependence of predictor feature `OverallQual`:"
   ]
  },
  {
   "cell_type": "code",
   "execution_count": 439,
   "metadata": {},
   "outputs": [
    {
     "data": {
      "image/png": "[encoded data removed]",
      "text/plain": [
       "<Figure size 720x720 with 1 Axes>"
      ]
     },
     "metadata": {},
     "output_type": "display_data"
    }
   ],
   "source": [
    "pd.reset_option('display.max_rows')\n",
    "pd.set_option('display.max_rows', len(mssubclass_dep))\n",
    "overallqual_dep = pd.DataFrame(feat_dep.loc['OverallQual'])\n",
    "overallqual_dep = pd.DataFrame(overallqual_dep.loc[overallqual_dep['OverallQual'] > 0, 'OverallQual']).sort_values('OverallQual',ascending=False)\n",
    "overallqual_dep_10 = overallqual_dep[1:12].reset_index()\n",
    "overallqual_dep_10.columns = ['Feature', 'Dependence']\n",
    "overallqual_dep_10 = overallqual_dep_10[1:]\n",
    "\n",
    "# Reorder values\n",
    "ordered_quald = overallqual_dep_10.sort_values(by='Dependence')\n",
    "my_range=range(1,len(ordered_quald.index)+1)\n",
    " \n",
    "# Lollipop chart\n",
    "plt.title('Overall Quality Feature Dependence (Score: 0.50)', fontsize=20)\n",
    "plt.hlines(y=my_range, xmin=0, xmax=ordered_quald['Dependence'], color='royalblue')\n",
    "plt.plot(ordered_quald['Dependence'], my_range, 'o')\n",
    "plt.yticks(my_range, ordered_quald['Feature'])\n",
    "plt.savefig('../src/visualization/overallqual_dep_final.png', dpi=300)\n",
    "plt.show()"
   ]
  },
  {
   "cell_type": "markdown",
   "metadata": {},
   "source": [
    "Examine multicollinearity of predictor feature `MSSubClass`:"
   ]
  },
  {
   "cell_type": "code",
   "execution_count": 358,
   "metadata": {},
   "outputs": [
    {
     "data": {
      "text/html": [
       "<div>\n",
       "<style scoped>\n",
       "    .dataframe tbody tr th:only-of-type {\n",
       "        vertical-align: middle;\n",
       "    }\n",
       "\n",
       "    .dataframe tbody tr th {\n",
       "        vertical-align: top;\n",
       "    }\n",
       "\n",
       "    .dataframe thead th {\n",
       "        text-align: right;\n",
       "    }\n",
       "</style>\n",
       "<table border=\"1\" class=\"dataframe\">\n",
       "  <thead>\n",
       "    <tr style=\"text-align: right;\">\n",
       "      <th></th>\n",
       "      <th>MSSubClass</th>\n",
       "    </tr>\n",
       "  </thead>\n",
       "  <tbody>\n",
       "    <tr>\n",
       "      <td>MSSubClass</td>\n",
       "      <td>1.0000</td>\n",
       "    </tr>\n",
       "    <tr>\n",
       "      <td>YearBuilt</td>\n",
       "      <td>0.5733</td>\n",
       "    </tr>\n",
       "    <tr>\n",
       "      <td>GarageFinish</td>\n",
       "      <td>0.5425</td>\n",
       "    </tr>\n",
       "    <tr>\n",
       "      <td>Neighborhood</td>\n",
       "      <td>0.5348</td>\n",
       "    </tr>\n",
       "    <tr>\n",
       "      <td>Foundation</td>\n",
       "      <td>0.4960</td>\n",
       "    </tr>\n",
       "    <tr>\n",
       "      <td>GarageType</td>\n",
       "      <td>0.4892</td>\n",
       "    </tr>\n",
       "    <tr>\n",
       "      <td>HouseStyle</td>\n",
       "      <td>0.4748</td>\n",
       "    </tr>\n",
       "    <tr>\n",
       "      <td>GarageYrBlt</td>\n",
       "      <td>0.4457</td>\n",
       "    </tr>\n",
       "    <tr>\n",
       "      <td>Exterior2nd</td>\n",
       "      <td>0.4407</td>\n",
       "    </tr>\n",
       "    <tr>\n",
       "      <td>GarageCars</td>\n",
       "      <td>0.4314</td>\n",
       "    </tr>\n",
       "  </tbody>\n",
       "</table>\n",
       "</div>"
      ],
      "text/plain": [
       "              MSSubClass\n",
       "MSSubClass        1.0000\n",
       "YearBuilt         0.5733\n",
       "GarageFinish      0.5425\n",
       "Neighborhood      0.5348\n",
       "Foundation        0.4960\n",
       "GarageType        0.4892\n",
       "HouseStyle        0.4748\n",
       "GarageYrBlt       0.4457\n",
       "Exterior2nd       0.4407\n",
       "GarageCars        0.4314"
      ]
     },
     "execution_count": 358,
     "metadata": {},
     "output_type": "execute_result"
    }
   ],
   "source": [
    "pd.set_option('display.max_rows', len(feature_corr_matrix(X_train)['MSSubClass']))\n",
    "mssubclass_corr = pd.DataFrame(feature_corr_matrix(X_train)['MSSubClass'].sort_values(ascending=False))\n",
    "\n",
    "mssubclass_corr[:10]"
   ]
  },
  {
   "cell_type": "markdown",
   "metadata": {},
   "source": [
    "Examine feature dependence of predictor feature `MSSubClass`:"
   ]
  },
  {
   "cell_type": "code",
   "execution_count": 323,
   "metadata": {},
   "outputs": [
    {
     "data": {
      "text/html": [
       "<div>\n",
       "<style scoped>\n",
       "    .dataframe tbody tr th:only-of-type {\n",
       "        vertical-align: middle;\n",
       "    }\n",
       "\n",
       "    .dataframe tbody tr th {\n",
       "        vertical-align: top;\n",
       "    }\n",
       "\n",
       "    .dataframe thead th {\n",
       "        text-align: right;\n",
       "    }\n",
       "</style>\n",
       "<table border=\"1\" class=\"dataframe\">\n",
       "  <thead>\n",
       "    <tr style=\"text-align: right;\">\n",
       "      <th></th>\n",
       "      <th>MSSubClass</th>\n",
       "    </tr>\n",
       "  </thead>\n",
       "  <tbody>\n",
       "    <tr>\n",
       "      <td>Dependence</td>\n",
       "      <td>0.946657</td>\n",
       "    </tr>\n",
       "    <tr>\n",
       "      <td>MSSubClass</td>\n",
       "      <td>1</td>\n",
       "    </tr>\n",
       "    <tr>\n",
       "      <td>LotFrontage</td>\n",
       "      <td>0.00100152</td>\n",
       "    </tr>\n",
       "    <tr>\n",
       "      <td>LotArea</td>\n",
       "      <td>0.0883389</td>\n",
       "    </tr>\n",
       "    <tr>\n",
       "      <td>Neighborhood</td>\n",
       "      <td>0.00640102</td>\n",
       "    </tr>\n",
       "    <tr>\n",
       "      <td>BldgType</td>\n",
       "      <td>0.170688</td>\n",
       "    </tr>\n",
       "    <tr>\n",
       "      <td>HouseStyle</td>\n",
       "      <td>0.683874</td>\n",
       "    </tr>\n",
       "    <tr>\n",
       "      <td>YearBuilt</td>\n",
       "      <td>0.88289</td>\n",
       "    </tr>\n",
       "    <tr>\n",
       "      <td>TotalBsmtSF</td>\n",
       "      <td>0.00332261</td>\n",
       "    </tr>\n",
       "    <tr>\n",
       "      <td>1stFlrSF</td>\n",
       "      <td>0.00566661</td>\n",
       "    </tr>\n",
       "    <tr>\n",
       "      <td>2ndFlrSF</td>\n",
       "      <td>0.295036</td>\n",
       "    </tr>\n",
       "    <tr>\n",
       "      <td>LowQualFinSF</td>\n",
       "      <td>0.00438581</td>\n",
       "    </tr>\n",
       "    <tr>\n",
       "      <td>GrLivArea</td>\n",
       "      <td>0.0108038</td>\n",
       "    </tr>\n",
       "    <tr>\n",
       "      <td>KitchenAbvGr</td>\n",
       "      <td>0.00952623</td>\n",
       "    </tr>\n",
       "    <tr>\n",
       "      <td>GarageType</td>\n",
       "      <td>0.00146976</td>\n",
       "    </tr>\n",
       "    <tr>\n",
       "      <td>GarageYrBlt</td>\n",
       "      <td>0.0025963</td>\n",
       "    </tr>\n",
       "    <tr>\n",
       "      <td>GarageFinish</td>\n",
       "      <td>0.00264329</td>\n",
       "    </tr>\n",
       "    <tr>\n",
       "      <td>GarageArea</td>\n",
       "      <td>0.00241005</td>\n",
       "    </tr>\n",
       "  </tbody>\n",
       "</table>\n",
       "</div>"
      ],
      "text/plain": [
       "              MSSubClass\n",
       "Dependence      0.946657\n",
       "MSSubClass             1\n",
       "LotFrontage   0.00100152\n",
       "LotArea        0.0883389\n",
       "Neighborhood  0.00640102\n",
       "BldgType        0.170688\n",
       "HouseStyle      0.683874\n",
       "YearBuilt        0.88289\n",
       "TotalBsmtSF   0.00332261\n",
       "1stFlrSF      0.00566661\n",
       "2ndFlrSF        0.295036\n",
       "LowQualFinSF  0.00438581\n",
       "GrLivArea      0.0108038\n",
       "KitchenAbvGr  0.00952623\n",
       "GarageType    0.00146976\n",
       "GarageYrBlt    0.0025963\n",
       "GarageFinish  0.00264329\n",
       "GarageArea    0.00241005"
      ]
     },
     "execution_count": 323,
     "metadata": {},
     "output_type": "execute_result"
    }
   ],
   "source": [
    "pd.reset_option('display.max_rows')\n",
    "pd.set_option('display.max_rows', len(mssubclass_dep))\n",
    "mssubclass_dep = pd.DataFrame(feat_dep.loc['MSSubClass'])\n",
    "ssubclass_dep = pd.DataFrame(mssubclass_dep.loc[mssubclass_dep['MSSubClass'] > 0, 'MSSubClass'])\n",
    "ssubclass_dep"
   ]
  },
  {
   "cell_type": "code",
   "execution_count": 324,
   "metadata": {},
   "outputs": [],
   "source": [
    "pd.reset_option('display.max_rows')"
   ]
  },
  {
   "cell_type": "code",
   "execution_count": null,
   "metadata": {},
   "outputs": [],
   "source": []
  }
 ],
 "metadata": {
  "kernelspec": {
   "display_name": "Python 3",
   "language": "python",
   "name": "python3"
  },
  "language_info": {
   "codemirror_mode": {
    "name": "ipython",
    "version": 3
   },
   "file_extension": ".py",
   "mimetype": "text/x-python",
   "name": "python",
   "nbconvert_exporter": "python",
   "pygments_lexer": "ipython3",
   "version": "3.7.4"
  }
 },
 "nbformat": 4,
 "nbformat_minor": 2
}
