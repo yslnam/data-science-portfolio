{
 "cells": [
  {
   "cell_type": "code",
   "execution_count": null,
   "metadata": {},
   "outputs": [],
   "source": [
    "from sklearn.linear_model import Ridge,RidgeCV\n",
    "from sklearn.metrics import mean_squared_error\n",
    "from sklearn.model_selection import train_test_split\n",
    "from sklearn.model_selection import GridSearchCV\n",
    "import matplotlib.pyplot as plt\n",
    "from scipy import stats\n",
    "import numpy as np\n",
    "import pandas as pd"
   ]
  },
  {
   "cell_type": "code",
   "execution_count": null,
   "metadata": {},
   "outputs": [],
   "source": [
    "xtest = pd.read_csv('../data/processed/X_test_norm.csv')\n",
    "x_train = pd.read_csv('../data/processed/X_train_norm.csv')\n",
    "y_train = pd.read_csv('../data/processed/y_train_norm.csv')\n",
    "\n",
    "x_test = xtest.drop(columns = 'Id')"
   ]
  },
  {
   "cell_type": "markdown",
   "metadata": {},
   "source": [
    "# Ridge Feature Selection\n"
   ]
  },
  {
   "cell_type": "code",
   "execution_count": null,
   "metadata": {},
   "outputs": [],
   "source": [
    "ridge_coefs = []\n",
    "ridge_alphas = np.logspace(-1, 7, 1000)\n",
    "ridge_mdl = Ridge(max_iter = 1e7)"
   ]
  },
  {
   "cell_type": "code",
   "execution_count": null,
   "metadata": {},
   "outputs": [],
   "source": [
    "for alpha in ridge_alphas:\n",
    "    ridge_lm.set_params(alpha = alpha).fit(x_train, y_train)\n",
    "    ridge_coefs.extend(ridge_lm.coef_)"
   ]
  },
  {
   "cell_type": "code",
   "execution_count": null,
   "metadata": {},
   "outputs": [],
   "source": [
    "ridge_coefs"
   ]
  },
  {
   "cell_type": "code",
   "execution_count": null,
   "metadata": {},
   "outputs": [],
   "source": [
    "ridge_df_coef = pd.DataFrame(ridge_coefs, index = ridge_alphas, columns = x_train.columns)\n",
    "title = 'Ridge coefficients as a function of the regularization'\n",
    "ridge_df_coef.plot(logx = True, title = title, legend = False)\n",
    "plt.xlabel('alpha')\n",
    "plt.ylabel('Coefficients')\n",
    "plt.show()"
   ]
  },
  {
   "cell_type": "code",
   "execution_count": null,
   "metadata": {},
   "outputs": [],
   "source": [
    "ridge_df_coef.iloc[:, np.random.choice(range(ridge_df_coef.shape[1]), size = 5, replace = False)].plot(logx=True, title=title)"
   ]
  },
  {
   "cell_type": "code",
   "execution_count": null,
   "metadata": {
    "scrolled": true
   },
   "outputs": [],
   "source": [
    "ridge_df_coef"
   ]
  },
  {
   "cell_type": "markdown",
   "metadata": {},
   "source": [
    "## Hyperparameter tuning"
   ]
  },
  {
   "cell_type": "code",
   "execution_count": null,
   "metadata": {},
   "outputs": [],
   "source": [
    "ridge_alphas = np.logspace(-1, 7, 100)\n",
    "\n",
    "ridge_cv=RidgeCV(alphas=ridge_alphas, cv=5)\n",
    "ridge_mdl = ridge_cv.fit(x_train, y_train)\n",
    "print(ridge_mdl.alpha_)\n",
    "print(ridge_mdl.intercept_)\n",
    "\n",
    "y_pred = ridge_mdl.predict(x_test)\n",
    "\n"
   ]
  },
  {
   "cell_type": "code",
   "execution_count": null,
   "metadata": {},
   "outputs": [],
   "source": [
    "ridge_cv.score(x_train,y_train)"
   ]
  },
  {
   "cell_type": "markdown",
   "metadata": {},
   "source": [
    "## Refined search"
   ]
  },
  {
   "cell_type": "code",
   "execution_count": null,
   "metadata": {},
   "outputs": [],
   "source": [
    "ridge_alphas2 = np.logspace(0, 2, 200)\n"
   ]
  },
  {
   "cell_type": "code",
   "execution_count": null,
   "metadata": {},
   "outputs": [],
   "source": [
    "ridge_cv2=RidgeCV(alphas=ridge_alphas2, cv=5)\n",
    "ridge_mdl2 = ridge_cv2.fit(x_train, y_train)\n",
    "print(ridge_mdl2.alpha_)\n",
    "print(ridge_mdl2.intercept_)\n",
    "\n",
    "y_pred = ridge_mdl2.predict(x_test)"
   ]
  },
  {
   "cell_type": "code",
   "execution_count": null,
   "metadata": {},
   "outputs": [],
   "source": [
    "ridge_cv2.score(x_train,y_train)"
   ]
  },
  {
   "cell_type": "markdown",
   "metadata": {},
   "source": [
    "## Model Submission"
   ]
  },
  {
   "cell_type": "code",
   "execution_count": null,
   "metadata": {},
   "outputs": [],
   "source": [
    "y_predict = np.expm1(ridge_cv2.predict(xtest.loc[:,xtest.columns != 'Id']))\n",
    "\n",
    "submission = pd.DataFrame({'Id': xtest['Id'], 'SalePrice': pd.Series(y_predict.reshape(-1,))})\n",
    "\n",
    "submission.to_csv('submission_ridge.csv',index=False)\n",
    "\n",
    "submission"
   ]
  },
  {
   "cell_type": "code",
   "execution_count": null,
   "metadata": {},
   "outputs": [],
   "source": []
  }
 ],
 "metadata": {
  "kernelspec": {
   "display_name": "Python 3",
   "language": "python",
   "name": "python3"
  },
  "language_info": {
   "codemirror_mode": {
    "name": "ipython",
    "version": 3
   },
   "file_extension": ".py",
   "mimetype": "text/x-python",
   "name": "python",
   "nbconvert_exporter": "python",
   "pygments_lexer": "ipython3",
   "version": "3.7.4"
  }
 },
 "nbformat": 4,
 "nbformat_minor": 2
}
