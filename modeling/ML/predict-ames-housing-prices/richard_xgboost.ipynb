{
 "cells": [
  {
   "cell_type": "markdown",
   "metadata": {},
   "source": [
    "# XGBoost"
   ]
  },
  {
   "cell_type": "markdown",
   "metadata": {},
   "source": [
    "## Import and load data"
   ]
  },
  {
   "cell_type": "code",
   "execution_count": null,
   "metadata": {},
   "outputs": [],
   "source": [
    "%matplotlib inline\n",
    "import pandas as pd\n",
    "import numpy as np\n",
    "import matplotlib.pyplot as plt\n",
    "import seaborn as sns; sns.set()\n",
    "from scipy import stats\n",
    "from xgboost import XGBRegressor\n",
    "from sklearn.model_selection import GridSearchCV\n"
   ]
  },
  {
   "cell_type": "code",
   "execution_count": null,
   "metadata": {},
   "outputs": [],
   "source": [
    "X_train = pd.read_csv('../data/processed/X_train_norm.csv')\n",
    "y_train = pd.read_csv('../data/processed/y_train_norm.csv')\n",
    "X_test = pd.read_csv('../data/processed/X_test_norm.csv')\n",
    "test_id = X_test.Id\n",
    "boosttest = X_test.copy().drop(columns=[\"Id\"])"
   ]
  },
  {
   "cell_type": "code",
   "execution_count": null,
   "metadata": {},
   "outputs": [],
   "source": [
    "boosttest"
   ]
  },
  {
   "cell_type": "markdown",
   "metadata": {},
   "source": [
    "## Model: XGBoost"
   ]
  },
  {
   "cell_type": "code",
   "execution_count": null,
   "metadata": {},
   "outputs": [],
   "source": [
    "# Initialize XGB model\n",
    "\n",
    "xgbmodel = XGBRegressor(objective = \"reg:squarederror\",\n",
    "                        booster = \"gbtree\",verbosity = 2, \n",
    "                        n_jobs = -1)\n",
    "\n",
    "# Parameters for tuning\n",
    "adjparams = {'learning_rate': np.linspace(0.05, 0.15, 10),\n",
    "             'min_split_loss':[0, 1, 2], 'max_depth':[3, 4, 5, 6],\n",
    "             \"n_estimator\":[1000, 1100, 1200], \"min_child_weight\":[1,2,3,4]}    \n",
    "\n",
    "# god_params = {'max_depth':3,'learning_rate':0.1,'n_estimators':1000,\n",
    "#               'reg_alpha':0.001,'reg_lambda':0.000001,\n",
    "#               'min_child_weight':3}\n",
    "# defaultparams = {'min_child_weight':1, \"max_delta_step\":0}\n",
    "# xgbmodel.fit(X_train, y_train)\n",
    "# xgbpredictions4 = np.expm1(xgbmodel4.predict(boosttest))\n",
    "# print(xgbpredictions4)"
   ]
  },
  {
   "cell_type": "markdown",
   "metadata": {},
   "source": [
    "# Parameter Tuning"
   ]
  },
  {
   "cell_type": "code",
   "execution_count": null,
   "metadata": {},
   "outputs": [],
   "source": [
    "xgbgridsearch = GridSearchCV(estimator = xgbmodel, \n",
    "             param_grid = adjparams, \n",
    "             cv =10, \n",
    "             return_train_score=True, scoring = 'r2', verbose = 2)"
   ]
  },
  {
   "cell_type": "code",
   "execution_count": null,
   "metadata": {},
   "outputs": [],
   "source": [
    "# train model\n",
    "xgbgridsearch.fit(X_train, y_train)\n",
    "xgbgridsearch.cv_results_\n",
    "xgbgridsearch.best_params_"
   ]
  },
  {
   "cell_type": "code",
   "execution_count": null,
   "metadata": {},
   "outputs": [],
   "source": [
    "mean_test_score = xgbgridsearch.cv_results_['mean_test_score']\n",
    "std_test_score = xgbgridsearch.cv_results_['std_test_score']\n",
    "mean_train_score = xgbgridsearch.cv_results_['mean_train_score']\n",
    "std_train_score = xgbgridsearch.cv_results_['std_train_score']\n",
    "print(max(mean_train_score))\n",
    "print(max(mean_test_score))\n"
   ]
  },
  {
   "cell_type": "markdown",
   "metadata": {},
   "source": [
    "# Prepare Submission CSV"
   ]
  },
  {
   "cell_type": "code",
   "execution_count": null,
   "metadata": {},
   "outputs": [],
   "source": [
    "X_test"
   ]
  },
  {
   "cell_type": "code",
   "execution_count": null,
   "metadata": {},
   "outputs": [],
   "source": [
    "xgbpredictions = np.expm1(xgbgridsearch.predict(boosttest))\n",
    "print(xgbpredictions)"
   ]
  },
  {
   "cell_type": "code",
   "execution_count": null,
   "metadata": {},
   "outputs": [],
   "source": [
    "xgbsubmission = pd.DataFrame()\n",
    "xgbsubmission['Id'] = test_id\n",
    "xgbsubmission['SalePrice']= pd.DataFrame(xgbpredictions)\n",
    "xgbsubmission.to_csv(\"xgbsubmission\",index = False)"
   ]
  }
 ],
 "metadata": {
  "kernelspec": {
   "display_name": "Python 3",
   "language": "python",
   "name": "python3"
  },
  "language_info": {
   "codemirror_mode": {
    "name": "ipython",
    "version": 3
   },
   "file_extension": ".py",
   "mimetype": "text/x-python",
   "name": "python",
   "nbconvert_exporter": "python",
   "pygments_lexer": "ipython3",
   "version": "3.7.4"
  }
 },
 "nbformat": 4,
 "nbformat_minor": 2
}
