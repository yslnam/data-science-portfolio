{
 "cells": [
  {
   "cell_type": "markdown",
   "metadata": {},
   "source": [
    "## Elastic Net Model"
   ]
  },
  {
   "cell_type": "markdown",
   "metadata": {},
   "source": [
    "Libraries and Datasets:"
   ]
  },
  {
   "cell_type": "code",
   "execution_count": null,
   "metadata": {},
   "outputs": [],
   "source": [
    "from sklearn.linear_model import ElasticNet,ElasticNetCV\n",
    "from sklearn.metrics import mean_squared_error\n",
    "from sklearn.model_selection import train_test_split\n",
    "from sklearn.model_selection import GridSearchCV\n",
    "from scipy import stats\n",
    "import numpy as np\n",
    "import pandas as pd"
   ]
  },
  {
   "cell_type": "code",
   "execution_count": null,
   "metadata": {},
   "outputs": [],
   "source": [
    "xtest = pd.read_csv('../data/processed/X_test_norm.csv')\n",
    "x_train = pd.read_csv('../data/processed/X_train_norm.csv')\n",
    "y_train = pd.read_csv('../data/processed/y_train_norm.csv')\n",
    "\n",
    "x_test = xtest.drop(columns = 'Id')"
   ]
  },
  {
   "cell_type": "markdown",
   "metadata": {},
   "source": [
    "### Initial Model Implementation"
   ]
  },
  {
   "cell_type": "markdown",
   "metadata": {},
   "source": [
    "Looking for reasonable start point for alpha"
   ]
  },
  {
   "cell_type": "code",
   "execution_count": null,
   "metadata": {},
   "outputs": [],
   "source": [
    "alphas = [1e-5, 0.0001, 0.001, 0.01, 0.1, 0.3, 0.5, 0.7, 1, 10]\n",
    "\n",
    "for a in alphas:\n",
    "    elastic_mdl = ElasticNet(alpha=a).fit(x_train,y_train)   \n",
    "    score = elastic_mdl.score(x_train,y_train)\n",
    "    pred_y = elastic_mdl.predict(x_train)\n",
    "    mse = mean_squared_error(y_train, pred_y)   \n",
    "    print(\"Alpha:{0:.5f}, R2:{1:.3f}, MSE:{2:.3f}, RMSE:{3:.3f}\"\n",
    "       .format(a, score, mse, np.sqrt(mse)))"
   ]
  },
  {
   "cell_type": "code",
   "execution_count": null,
   "metadata": {},
   "outputs": [],
   "source": [
    "elastic=ElasticNet(alpha=0.001).fit(x_train, y_train)\n"
   ]
  },
  {
   "cell_type": "code",
   "execution_count": null,
   "metadata": {},
   "outputs": [],
   "source": [
    "elastic_cv=ElasticNetCV(alphas=alphas, cv=5)\n",
    "elastic_mdl = elastic_cv.fit(x_train, y_train)\n",
    "print(elastic_mdl.alpha_)\n",
    "print(elastic_mdl.intercept_)"
   ]
  },
  {
   "cell_type": "code",
   "execution_count": null,
   "metadata": {},
   "outputs": [],
   "source": [
    "elastic_cv.mse_path_"
   ]
  },
  {
   "cell_type": "code",
   "execution_count": null,
   "metadata": {},
   "outputs": [],
   "source": [
    "elastic_cv.score(x_train,y_train)"
   ]
  },
  {
   "cell_type": "markdown",
   "metadata": {},
   "source": [
    "## Hyperparameter tuning"
   ]
  },
  {
   "cell_type": "markdown",
   "metadata": {},
   "source": [
    "Looking to find best combination of alpha and l1_ratio"
   ]
  },
  {
   "cell_type": "code",
   "execution_count": null,
   "metadata": {},
   "outputs": [],
   "source": [
    "elasticnet_mdl = ElasticNet(warm_start = True, max_iter = 1e7)"
   ]
  },
  {
   "cell_type": "markdown",
   "metadata": {},
   "source": [
    "Define ranges of parameters for initial broad search"
   ]
  },
  {
   "cell_type": "code",
   "execution_count": null,
   "metadata": {},
   "outputs": [],
   "source": [
    "alphas = alphas = [1e-5, 0.0001, 0.001, 0.01, 0.1, 0.3, 0.5, 0.7, 1, 10]\n",
    "l1_ratios = np.linspace(0.1,1,10)\n",
    "elastic_params = {'alpha': alphas,'l1_ratio':l1_ratios}"
   ]
  },
  {
   "cell_type": "code",
   "execution_count": null,
   "metadata": {},
   "outputs": [],
   "source": [
    "#GridSearch\n",
    "elastic_param_search = GridSearchCV(estimator = elasticnet_mdl,\n",
    "                                    param_grid = elastic_params,\n",
    "                                    cv = 10,\n",
    "                                    return_train_score = True,\n",
    "                                    verbose =2)"
   ]
  },
  {
   "cell_type": "code",
   "execution_count": null,
   "metadata": {},
   "outputs": [],
   "source": [
    "elastic_param_search.fit(x_train,y_train)"
   ]
  },
  {
   "cell_type": "code",
   "execution_count": null,
   "metadata": {},
   "outputs": [],
   "source": [
    "elastic_param_search.best_params_"
   ]
  },
  {
   "cell_type": "code",
   "execution_count": null,
   "metadata": {},
   "outputs": [],
   "source": [
    "elastic_param_search.cv_results_['mean_test_score'].max()"
   ]
  },
  {
   "cell_type": "markdown",
   "metadata": {},
   "source": [
    "### Refine search"
   ]
  },
  {
   "cell_type": "code",
   "execution_count": null,
   "metadata": {},
   "outputs": [],
   "source": [
    "alphas2 = np.linspace(0.00005,0.001,50)\n",
    "l1_ratios2 = np.linspace(0.01,1,20)\n",
    "elastic_params2 = {'alpha': alphas2,'l1_ratio':l1_ratios2}"
   ]
  },
  {
   "cell_type": "code",
   "execution_count": null,
   "metadata": {},
   "outputs": [],
   "source": [
    "elastic_param_search2 = GridSearchCV(estimator = elasticnet_mdl,\n",
    "                                    param_grid = elastic_params2,\n",
    "                                    cv = 10,\n",
    "                                    return_train_score = True,\n",
    "                                    verbose =2)"
   ]
  },
  {
   "cell_type": "code",
   "execution_count": null,
   "metadata": {},
   "outputs": [],
   "source": [
    "elastic_param_search2.fit(x_train,y_train)"
   ]
  },
  {
   "cell_type": "code",
   "execution_count": null,
   "metadata": {},
   "outputs": [],
   "source": [
    "elastic_param_search2.best_params_"
   ]
  },
  {
   "cell_type": "code",
   "execution_count": null,
   "metadata": {},
   "outputs": [],
   "source": [
    "elastic_param_search2.cv_results_['mean_test_score'].max()"
   ]
  },
  {
   "cell_type": "code",
   "execution_count": null,
   "metadata": {},
   "outputs": [],
   "source": []
  },
  {
   "cell_type": "markdown",
   "metadata": {},
   "source": [
    "Second tuning"
   ]
  },
  {
   "cell_type": "code",
   "execution_count": null,
   "metadata": {},
   "outputs": [],
   "source": [
    "alphas3 = np.linspace(0.0001,0.0003,50)\n",
    "l1_ratios3 = np.linspace(0.001, 1,20)\n",
    "elastic_params3 = {'alpha': alphas,'l1_ratio':l1_ratios}"
   ]
  },
  {
   "cell_type": "code",
   "execution_count": null,
   "metadata": {},
   "outputs": [],
   "source": [
    "elastic_param_search3 = GridSearchCV(estimator = elasticnet_mdl,\n",
    "                                    param_grid = elastic_params3,\n",
    "                                    cv = 10,\n",
    "                                    return_train_score = True,\n",
    "                                    verbose =2)"
   ]
  },
  {
   "cell_type": "code",
   "execution_count": null,
   "metadata": {},
   "outputs": [],
   "source": [
    "elastic_param_search3.fit(x_train,y_train)"
   ]
  },
  {
   "cell_type": "code",
   "execution_count": null,
   "metadata": {},
   "outputs": [],
   "source": [
    "elastic_param_search3.best_params_"
   ]
  },
  {
   "cell_type": "code",
   "execution_count": null,
   "metadata": {},
   "outputs": [],
   "source": [
    "elastic_param_search3.cv_results_['mean_test_score'].max()"
   ]
  },
  {
   "cell_type": "markdown",
   "metadata": {},
   "source": [
    "## Model submission\n"
   ]
  },
  {
   "cell_type": "code",
   "execution_count": null,
   "metadata": {},
   "outputs": [],
   "source": [
    "y_predict = np.expm1(elastic_param_search3.predict(xtest.loc[:,xtest.columns != 'Id']))\n",
    "\n",
    "submission = pd.DataFrame({'Id': xtest['Id'], 'SalePrice': y_predict})\n",
    "\n",
    "submission.to_csv('submission_elasticnet.csv',index=False)\n",
    "\n",
    "submission"
   ]
  },
  {
   "cell_type": "code",
   "execution_count": null,
   "metadata": {},
   "outputs": [],
   "source": []
  }
 ],
 "metadata": {
  "kernelspec": {
   "display_name": "Python 3",
   "language": "python",
   "name": "python3"
  },
  "language_info": {
   "codemirror_mode": {
    "name": "ipython",
    "version": 3
   },
   "file_extension": ".py",
   "mimetype": "text/x-python",
   "name": "python",
   "nbconvert_exporter": "python",
   "pygments_lexer": "ipython3",
   "version": "3.7.4"
  }
 },
 "nbformat": 4,
 "nbformat_minor": 2
}
